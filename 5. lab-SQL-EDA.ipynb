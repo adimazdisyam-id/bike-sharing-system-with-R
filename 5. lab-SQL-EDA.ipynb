{
 "cells": [
  {
   "cell_type": "markdown",
   "metadata": {},
   "source": [
    "<center>\n",
    "<img src=\"https://cf-courses-data.s3.us.cloud-object-storage.appdomain.cloud/IBMDeveloperSkillsNetwork-RP0321EN-SkillsNetwork/labs/module_1/images/SN_web_lightmode.png\" width=\"300\"> \n",
    "</center>\n",
    "\n",
    "# Assignment: Exploratory Data Analysis with SQL\n",
    "Estimated time needed: 60 minutes\n",
    "\n",
    "\n",
    "# Introduction\n",
    "Using this R notebook you will perform exploratory data analysis tasks using SQL queries with the RODBC R package. You will not be graded here, but you will be asked to present some of these results in your final assignment, where you will be graded on the accuracy of your results as well as the content of your SQL queries.\n"
   ]
  },
  {
   "cell_type": "markdown",
   "metadata": {},
   "source": [
    "### Establish your Db2 connection\n",
    "Load the 'RODBC' library, and use the 'odbcConnect( )' function as you did in the previous lab to establish the connection to your Db2 assets.  \n",
    "Provided you successfully loaded your data into the tables in that lab, you are now ready to start running SQL queries using the RODBC library as you did in Course 3.\n"
   ]
  },
  {
   "cell_type": "code",
   "execution_count": 1,
   "metadata": {
    "tags": []
   },
   "outputs": [],
   "source": [
    "# import library\n",
    "library(RODBC)"
   ]
  },
  {
   "cell_type": "code",
   "execution_count": 2,
   "metadata": {
    "tags": []
   },
   "outputs": [],
   "source": [
    "dsn_driver <- \"{IBM DB2 ODBC Driver}\"\n",
    "dsn_database <- \"bludb\"            # e.g. \"bludb\"\n",
    "dsn_hostname <- \"0aebb68-94fa-46ec-a1fc-1c999edb6187.c3n41cmd0nqnrk39u98g.databases.appdomain.cloud\" # e.g \"54a2f15b-5c0f-46df-8954-.databases.appdomain.cloud\"\n",
    "dsn_port <- \"31249\"   # e.g. \"32733\" \n",
    "dsn_protocol <- \"TCPIP\"            # i.e. \"TCPIP\"\n",
    "dsn_uid <- \"lpg49402\"        # e.g. \"zjh17769\"\n",
    "dsn_pwd <- \"r45AtWNlAlu2bYaH\"      # e.g. \"zcwd4+8gbq9bm5k4\"  \n",
    "dsn_security <- \"ssl\""
   ]
  },
  {
   "cell_type": "code",
   "execution_count": 3,
   "metadata": {
    "tags": []
   },
   "outputs": [
    {
     "data": {
      "text/plain": [
       "RODBC Connection 1\n",
       "Details:\n",
       "  case=nochange\n",
       "  DRIVER={IBM DB2 ODBC DRIVER}\n",
       "  UID=lpg49402\n",
       "  PWD=******\n",
       "  DATABASE=bludb\n",
       "  HOSTNAME=0aebb68-94fa-46ec-a1fc-1c999edb6187.c3n41cmd0nqnrk39u98g.databases.appdomain.cloud\n",
       "  PORT=31249\n",
       "  PROTOCOL=TCPIP\n",
       "  SECURITY=SSL"
      ]
     },
     "metadata": {},
     "output_type": "display_data"
    }
   ],
   "source": [
    "# provide your solution here\n",
    "conn_path <- paste(\"DRIVER=\",dsn_driver,\n",
    "                  \";DATABASE=\",dsn_database,\n",
    "                  \";HOSTNAME=\",dsn_hostname,\n",
    "                  \";PORT=\",dsn_port,\n",
    "                  \";PROTOCOL=\",dsn_protocol,\n",
    "                  \";UID=\",dsn_uid,\n",
    "                  \";PWD=\",dsn_pwd,\n",
    "                  \";SECURITY=\",dsn_security,        \n",
    "                    sep=\"\")\n",
    "conn <- odbcDriverConnect(conn_path)\n",
    "conn"
   ]
  },
  {
   "cell_type": "markdown",
   "metadata": {},
   "source": [
    "\n",
    "## Task 1 - Record Count\n",
    "#### Determine how many records are in the seoul_bike_sharing dataset.\n"
   ]
  },
  {
   "cell_type": "markdown",
   "metadata": {},
   "source": [
    "### Solution 1\n"
   ]
  },
  {
   "cell_type": "code",
   "execution_count": 20,
   "metadata": {
    "tags": []
   },
   "outputs": [
    {
     "data": {
      "text/html": [
       "<table>\n",
       "<caption>A data.frame: 1 × 1</caption>\n",
       "<thead>\n",
       "\t<tr><th></th><th scope=col>RECORDS</th></tr>\n",
       "\t<tr><th></th><th scope=col>&lt;int&gt;</th></tr>\n",
       "</thead>\n",
       "<tbody>\n",
       "\t<tr><th scope=row>1</th><td>8465</td></tr>\n",
       "</tbody>\n",
       "</table>\n"
      ],
      "text/latex": [
       "A data.frame: 1 × 1\n",
       "\\begin{tabular}{r|l}\n",
       "  & RECORDS\\\\\n",
       "  & <int>\\\\\n",
       "\\hline\n",
       "\t1 & 8465\\\\\n",
       "\\end{tabular}\n"
      ],
      "text/markdown": [
       "\n",
       "A data.frame: 1 × 1\n",
       "\n",
       "| <!--/--> | RECORDS &lt;int&gt; |\n",
       "|---|---|\n",
       "| 1 | 8465 |\n",
       "\n"
      ],
      "text/plain": [
       "  RECORDS\n",
       "1 8465   "
      ]
     },
     "metadata": {},
     "output_type": "display_data"
    }
   ],
   "source": [
    "# provide your solution here\n",
    "query1 <- \"SELECT COUNT(*) records FROM seoul_bike_sharing;\"\n",
    "sqlQuery(conn, query1, believeNRows=FALSE)"
   ]
  },
  {
   "cell_type": "markdown",
   "metadata": {},
   "source": [
    "## Task 2 - Operational Hours\n",
    "#### Determine how many hours had non-zero rented bike count.\n"
   ]
  },
  {
   "cell_type": "markdown",
   "metadata": {},
   "source": [
    "### Solution 2\n"
   ]
  },
  {
   "cell_type": "code",
   "execution_count": 21,
   "metadata": {
    "tags": []
   },
   "outputs": [
    {
     "data": {
      "text/html": [
       "<table>\n",
       "<caption>A data.frame: 1 × 1</caption>\n",
       "<thead>\n",
       "\t<tr><th></th><th scope=col>NUM_HOURS</th></tr>\n",
       "\t<tr><th></th><th scope=col>&lt;int&gt;</th></tr>\n",
       "</thead>\n",
       "<tbody>\n",
       "\t<tr><th scope=row>1</th><td>24</td></tr>\n",
       "</tbody>\n",
       "</table>\n"
      ],
      "text/latex": [
       "A data.frame: 1 × 1\n",
       "\\begin{tabular}{r|l}\n",
       "  & NUM\\_HOURS\\\\\n",
       "  & <int>\\\\\n",
       "\\hline\n",
       "\t1 & 24\\\\\n",
       "\\end{tabular}\n"
      ],
      "text/markdown": [
       "\n",
       "A data.frame: 1 × 1\n",
       "\n",
       "| <!--/--> | NUM_HOURS &lt;int&gt; |\n",
       "|---|---|\n",
       "| 1 | 24 |\n",
       "\n"
      ],
      "text/plain": [
       "  NUM_HOURS\n",
       "1 24       "
      ]
     },
     "metadata": {},
     "output_type": "display_data"
    }
   ],
   "source": [
    "# provide your solution here\n",
    "query2 <- \"SELECT COUNT(DISTINCT hour) num_hours\n",
    "            FROM seoul_bike_sharing\n",
    "            WHERE rented_bike_count > 0;\"\n",
    "sqlQuery(conn, query2, believeNRows=FALSE)"
   ]
  },
  {
   "cell_type": "markdown",
   "metadata": {},
   "source": [
    "## Task 3 - Weather Outlook\n",
    "#### Query the the weather forecast for Seoul over the next 3 hours.\n",
    "Recall that the records in the CITIES_WEATHER_FORECAST dataset are 3 hours apart, so we just need the first record from the query.\n"
   ]
  },
  {
   "cell_type": "markdown",
   "metadata": {},
   "source": [
    "### Solution 3\n"
   ]
  },
  {
   "cell_type": "code",
   "execution_count": 22,
   "metadata": {
    "tags": []
   },
   "outputs": [
    {
     "data": {
      "text/html": [
       "<table>\n",
       "<caption>A data.frame: 1 × 12</caption>\n",
       "<thead>\n",
       "\t<tr><th></th><th scope=col>CITY</th><th scope=col>WEATHER</th><th scope=col>VISIBILITY</th><th scope=col>TEMP</th><th scope=col>TEMP_MIN</th><th scope=col>TEMP_MAX</th><th scope=col>PRESSURE</th><th scope=col>HUMIDITY</th><th scope=col>WIND_SPEED</th><th scope=col>WIND_DEG</th><th scope=col>SEASON</th><th scope=col>FORECAST_DATETIME</th></tr>\n",
       "\t<tr><th></th><th scope=col>&lt;fct&gt;</th><th scope=col>&lt;fct&gt;</th><th scope=col>&lt;int&gt;</th><th scope=col>&lt;dbl&gt;</th><th scope=col>&lt;dbl&gt;</th><th scope=col>&lt;dbl&gt;</th><th scope=col>&lt;int&gt;</th><th scope=col>&lt;int&gt;</th><th scope=col>&lt;dbl&gt;</th><th scope=col>&lt;int&gt;</th><th scope=col>&lt;fct&gt;</th><th scope=col>&lt;dttm&gt;</th></tr>\n",
       "</thead>\n",
       "<tbody>\n",
       "\t<tr><th scope=row>1</th><td>Seoul</td><td>Clear</td><td>10000</td><td>12.32</td><td>10.91</td><td>12.32</td><td>1015</td><td>50</td><td>2.18</td><td>248</td><td>Spring</td><td>2021-04-16 12:00:00</td></tr>\n",
       "</tbody>\n",
       "</table>\n"
      ],
      "text/latex": [
       "A data.frame: 1 × 12\n",
       "\\begin{tabular}{r|llllllllllll}\n",
       "  & CITY & WEATHER & VISIBILITY & TEMP & TEMP\\_MIN & TEMP\\_MAX & PRESSURE & HUMIDITY & WIND\\_SPEED & WIND\\_DEG & SEASON & FORECAST\\_DATETIME\\\\\n",
       "  & <fct> & <fct> & <int> & <dbl> & <dbl> & <dbl> & <int> & <int> & <dbl> & <int> & <fct> & <dttm>\\\\\n",
       "\\hline\n",
       "\t1 & Seoul & Clear & 10000 & 12.32 & 10.91 & 12.32 & 1015 & 50 & 2.18 & 248 & Spring & 2021-04-16 12:00:00\\\\\n",
       "\\end{tabular}\n"
      ],
      "text/markdown": [
       "\n",
       "A data.frame: 1 × 12\n",
       "\n",
       "| <!--/--> | CITY &lt;fct&gt; | WEATHER &lt;fct&gt; | VISIBILITY &lt;int&gt; | TEMP &lt;dbl&gt; | TEMP_MIN &lt;dbl&gt; | TEMP_MAX &lt;dbl&gt; | PRESSURE &lt;int&gt; | HUMIDITY &lt;int&gt; | WIND_SPEED &lt;dbl&gt; | WIND_DEG &lt;int&gt; | SEASON &lt;fct&gt; | FORECAST_DATETIME &lt;dttm&gt; |\n",
       "|---|---|---|---|---|---|---|---|---|---|---|---|---|\n",
       "| 1 | Seoul | Clear | 10000 | 12.32 | 10.91 | 12.32 | 1015 | 50 | 2.18 | 248 | Spring | 2021-04-16 12:00:00 |\n",
       "\n"
      ],
      "text/plain": [
       "  CITY  WEATHER VISIBILITY TEMP  TEMP_MIN TEMP_MAX PRESSURE HUMIDITY WIND_SPEED\n",
       "1 Seoul Clear   10000      12.32 10.91    12.32    1015     50       2.18      \n",
       "  WIND_DEG SEASON FORECAST_DATETIME  \n",
       "1 248      Spring 2021-04-16 12:00:00"
      ]
     },
     "metadata": {},
     "output_type": "display_data"
    }
   ],
   "source": [
    "# provide your solution here\n",
    "query3 <- \"SELECT *\n",
    "        FROM cities_weather_forecast\n",
    "        WHERE city = 'Seoul' AND forecast_datetime >= '2021-04-16 12:00:00' AND forecast_datetime < '2021-04-16 15:00:00'\n",
    "        ORDER BY forecast_datetime ASC\n",
    "        LIMIT 1;\"\n",
    "sqlQuery(conn, query3, believeNRows=FALSE)"
   ]
  },
  {
   "cell_type": "markdown",
   "metadata": {},
   "source": [
    "## Task 4 - Seasons\n",
    "#### Find which seasons are included in the seoul bike sharing dataset.\n"
   ]
  },
  {
   "cell_type": "markdown",
   "metadata": {},
   "source": [
    "### Solution 4\n"
   ]
  },
  {
   "cell_type": "code",
   "execution_count": 23,
   "metadata": {
    "tags": []
   },
   "outputs": [
    {
     "data": {
      "text/html": [
       "<table>\n",
       "<caption>A data.frame: 4 × 1</caption>\n",
       "<thead>\n",
       "\t<tr><th></th><th scope=col>SEASONS</th></tr>\n",
       "\t<tr><th></th><th scope=col>&lt;fct&gt;</th></tr>\n",
       "</thead>\n",
       "<tbody>\n",
       "\t<tr><th scope=row>1</th><td>Autumn</td></tr>\n",
       "\t<tr><th scope=row>2</th><td>Spring</td></tr>\n",
       "\t<tr><th scope=row>3</th><td>Summer</td></tr>\n",
       "\t<tr><th scope=row>4</th><td>Winter</td></tr>\n",
       "</tbody>\n",
       "</table>\n"
      ],
      "text/latex": [
       "A data.frame: 4 × 1\n",
       "\\begin{tabular}{r|l}\n",
       "  & SEASONS\\\\\n",
       "  & <fct>\\\\\n",
       "\\hline\n",
       "\t1 & Autumn\\\\\n",
       "\t2 & Spring\\\\\n",
       "\t3 & Summer\\\\\n",
       "\t4 & Winter\\\\\n",
       "\\end{tabular}\n"
      ],
      "text/markdown": [
       "\n",
       "A data.frame: 4 × 1\n",
       "\n",
       "| <!--/--> | SEASONS &lt;fct&gt; |\n",
       "|---|---|\n",
       "| 1 | Autumn |\n",
       "| 2 | Spring |\n",
       "| 3 | Summer |\n",
       "| 4 | Winter |\n",
       "\n"
      ],
      "text/plain": [
       "  SEASONS\n",
       "1 Autumn \n",
       "2 Spring \n",
       "3 Summer \n",
       "4 Winter "
      ]
     },
     "metadata": {},
     "output_type": "display_data"
    }
   ],
   "source": [
    "# provide your solution here\n",
    "query4 <- \"SELECT DISTINCT seasons\n",
    "FROM seoul_bike_sharing;\"\n",
    "sqlQuery(conn, query4, believeNRows=FALSE)"
   ]
  },
  {
   "cell_type": "markdown",
   "metadata": {},
   "source": [
    "## Task 5 - Date Range\n",
    "#### Find the first and last dates in the Seoul Bike Sharing dataset.\n"
   ]
  },
  {
   "cell_type": "markdown",
   "metadata": {},
   "source": [
    "### Solution 5\n"
   ]
  },
  {
   "cell_type": "code",
   "execution_count": 24,
   "metadata": {
    "tags": []
   },
   "outputs": [
    {
     "data": {
      "text/html": [
       "<table>\n",
       "<caption>A data.frame: 1 × 2</caption>\n",
       "<thead>\n",
       "\t<tr><th></th><th scope=col>FIRST_DATE</th><th scope=col>LAST_DATE</th></tr>\n",
       "\t<tr><th></th><th scope=col>&lt;fct&gt;</th><th scope=col>&lt;fct&gt;</th></tr>\n",
       "</thead>\n",
       "<tbody>\n",
       "\t<tr><th scope=row>1</th><td>31/12/2017</td><td>01/01/2018</td></tr>\n",
       "</tbody>\n",
       "</table>\n"
      ],
      "text/latex": [
       "A data.frame: 1 × 2\n",
       "\\begin{tabular}{r|ll}\n",
       "  & FIRST\\_DATE & LAST\\_DATE\\\\\n",
       "  & <fct> & <fct>\\\\\n",
       "\\hline\n",
       "\t1 & 31/12/2017 & 01/01/2018\\\\\n",
       "\\end{tabular}\n"
      ],
      "text/markdown": [
       "\n",
       "A data.frame: 1 × 2\n",
       "\n",
       "| <!--/--> | FIRST_DATE &lt;fct&gt; | LAST_DATE &lt;fct&gt; |\n",
       "|---|---|---|\n",
       "| 1 | 31/12/2017 | 01/01/2018 |\n",
       "\n"
      ],
      "text/plain": [
       "  FIRST_DATE LAST_DATE \n",
       "1 31/12/2017 01/01/2018"
      ]
     },
     "metadata": {},
     "output_type": "display_data"
    }
   ],
   "source": [
    "# provide your solution here\n",
    "query5 <- \"SELECT MAX(date) first_date, MIN(date) last_date\n",
    "FROM seoul_bike_sharing;\"\n",
    "sqlQuery(conn, query5, believeNRows=FALSE)"
   ]
  },
  {
   "cell_type": "markdown",
   "metadata": {},
   "source": [
    "## Task 6 - Subquery - 'all-time high'\n",
    "#### determine which date and hour had the most bike rentals.\n"
   ]
  },
  {
   "cell_type": "markdown",
   "metadata": {},
   "source": [
    "### Solution 6\n"
   ]
  },
  {
   "cell_type": "code",
   "execution_count": 28,
   "metadata": {
    "tags": []
   },
   "outputs": [
    {
     "data": {
      "text/html": [
       "<table>\n",
       "<caption>A data.frame: 1 × 3</caption>\n",
       "<thead>\n",
       "\t<tr><th></th><th scope=col>DATE</th><th scope=col>HOUR</th><th scope=col>BIKE_COUNT</th></tr>\n",
       "\t<tr><th></th><th scope=col>&lt;fct&gt;</th><th scope=col>&lt;int&gt;</th><th scope=col>&lt;int&gt;</th></tr>\n",
       "</thead>\n",
       "<tbody>\n",
       "\t<tr><th scope=row>1</th><td>19/06/2018</td><td>18</td><td>3556</td></tr>\n",
       "</tbody>\n",
       "</table>\n"
      ],
      "text/latex": [
       "A data.frame: 1 × 3\n",
       "\\begin{tabular}{r|lll}\n",
       "  & DATE & HOUR & BIKE\\_COUNT\\\\\n",
       "  & <fct> & <int> & <int>\\\\\n",
       "\\hline\n",
       "\t1 & 19/06/2018 & 18 & 3556\\\\\n",
       "\\end{tabular}\n"
      ],
      "text/markdown": [
       "\n",
       "A data.frame: 1 × 3\n",
       "\n",
       "| <!--/--> | DATE &lt;fct&gt; | HOUR &lt;int&gt; | BIKE_COUNT &lt;int&gt; |\n",
       "|---|---|---|---|\n",
       "| 1 | 19/06/2018 | 18 | 3556 |\n",
       "\n"
      ],
      "text/plain": [
       "  DATE       HOUR BIKE_COUNT\n",
       "1 19/06/2018 18   3556      "
      ]
     },
     "metadata": {},
     "output_type": "display_data"
    }
   ],
   "source": [
    "# provide your solution here\n",
    "query6 <- \"SELECT date, hour, MAX(rented_bike_count) bike_count\n",
    "            FROM seoul_bike_sharing\n",
    "            GROUP BY date, hour\n",
    "            ORDER BY MAX(rented_bike_count) DESC\n",
    "            LIMIT 1;\"\n",
    "sqlQuery(conn, query6, believeNRows=FALSE)"
   ]
  },
  {
   "cell_type": "markdown",
   "metadata": {},
   "source": [
    "## Task 7 - Hourly popularity and temperature by season\n",
    "#### Determine the average hourly temperature and the average number of bike rentals per hour over each season. List the top ten results by average bike count.\n"
   ]
  },
  {
   "cell_type": "markdown",
   "metadata": {},
   "source": [
    "### Solution 7\n"
   ]
  },
  {
   "cell_type": "code",
   "execution_count": 29,
   "metadata": {
    "tags": []
   },
   "outputs": [
    {
     "data": {
      "text/html": [
       "<table>\n",
       "<caption>A data.frame: 10 × 4</caption>\n",
       "<thead>\n",
       "\t<tr><th></th><th scope=col>SEASONS</th><th scope=col>HOUR</th><th scope=col>AVG_TEMPERATURE</th><th scope=col>AVG_BIKE_COUNT</th></tr>\n",
       "\t<tr><th></th><th scope=col>&lt;fct&gt;</th><th scope=col>&lt;int&gt;</th><th scope=col>&lt;dbl&gt;</th><th scope=col>&lt;int&gt;</th></tr>\n",
       "</thead>\n",
       "<tbody>\n",
       "\t<tr><th scope=row>1</th><td>Summer</td><td>18</td><td>29.38696</td><td>2135</td></tr>\n",
       "\t<tr><th scope=row>2</th><td>Autumn</td><td>18</td><td>16.03086</td><td>1983</td></tr>\n",
       "\t<tr><th scope=row>3</th><td>Summer</td><td>19</td><td>28.27283</td><td>1889</td></tr>\n",
       "\t<tr><th scope=row>4</th><td>Summer</td><td>20</td><td>27.06630</td><td>1801</td></tr>\n",
       "\t<tr><th scope=row>5</th><td>Summer</td><td>21</td><td>26.27826</td><td>1754</td></tr>\n",
       "\t<tr><th scope=row>6</th><td>Spring</td><td>18</td><td>15.97222</td><td>1689</td></tr>\n",
       "\t<tr><th scope=row>7</th><td>Summer</td><td>22</td><td>25.69891</td><td>1567</td></tr>\n",
       "\t<tr><th scope=row>8</th><td>Autumn</td><td>17</td><td>17.27778</td><td>1562</td></tr>\n",
       "\t<tr><th scope=row>9</th><td>Summer</td><td>17</td><td>30.07500</td><td>1526</td></tr>\n",
       "\t<tr><th scope=row>10</th><td>Autumn</td><td>19</td><td>15.06049</td><td>1515</td></tr>\n",
       "</tbody>\n",
       "</table>\n"
      ],
      "text/latex": [
       "A data.frame: 10 × 4\n",
       "\\begin{tabular}{r|llll}\n",
       "  & SEASONS & HOUR & AVG\\_TEMPERATURE & AVG\\_BIKE\\_COUNT\\\\\n",
       "  & <fct> & <int> & <dbl> & <int>\\\\\n",
       "\\hline\n",
       "\t1 & Summer & 18 & 29.38696 & 2135\\\\\n",
       "\t2 & Autumn & 18 & 16.03086 & 1983\\\\\n",
       "\t3 & Summer & 19 & 28.27283 & 1889\\\\\n",
       "\t4 & Summer & 20 & 27.06630 & 1801\\\\\n",
       "\t5 & Summer & 21 & 26.27826 & 1754\\\\\n",
       "\t6 & Spring & 18 & 15.97222 & 1689\\\\\n",
       "\t7 & Summer & 22 & 25.69891 & 1567\\\\\n",
       "\t8 & Autumn & 17 & 17.27778 & 1562\\\\\n",
       "\t9 & Summer & 17 & 30.07500 & 1526\\\\\n",
       "\t10 & Autumn & 19 & 15.06049 & 1515\\\\\n",
       "\\end{tabular}\n"
      ],
      "text/markdown": [
       "\n",
       "A data.frame: 10 × 4\n",
       "\n",
       "| <!--/--> | SEASONS &lt;fct&gt; | HOUR &lt;int&gt; | AVG_TEMPERATURE &lt;dbl&gt; | AVG_BIKE_COUNT &lt;int&gt; |\n",
       "|---|---|---|---|---|\n",
       "| 1 | Summer | 18 | 29.38696 | 2135 |\n",
       "| 2 | Autumn | 18 | 16.03086 | 1983 |\n",
       "| 3 | Summer | 19 | 28.27283 | 1889 |\n",
       "| 4 | Summer | 20 | 27.06630 | 1801 |\n",
       "| 5 | Summer | 21 | 26.27826 | 1754 |\n",
       "| 6 | Spring | 18 | 15.97222 | 1689 |\n",
       "| 7 | Summer | 22 | 25.69891 | 1567 |\n",
       "| 8 | Autumn | 17 | 17.27778 | 1562 |\n",
       "| 9 | Summer | 17 | 30.07500 | 1526 |\n",
       "| 10 | Autumn | 19 | 15.06049 | 1515 |\n",
       "\n"
      ],
      "text/plain": [
       "   SEASONS HOUR AVG_TEMPERATURE AVG_BIKE_COUNT\n",
       "1  Summer  18   29.38696        2135          \n",
       "2  Autumn  18   16.03086        1983          \n",
       "3  Summer  19   28.27283        1889          \n",
       "4  Summer  20   27.06630        1801          \n",
       "5  Summer  21   26.27826        1754          \n",
       "6  Spring  18   15.97222        1689          \n",
       "7  Summer  22   25.69891        1567          \n",
       "8  Autumn  17   17.27778        1562          \n",
       "9  Summer  17   30.07500        1526          \n",
       "10 Autumn  19   15.06049        1515          "
      ]
     },
     "metadata": {},
     "output_type": "display_data"
    }
   ],
   "source": [
    "# provide your solution here\n",
    "query7 <- \"SELECT seasons, hour, AVG(temperature) avg_temperature, AVG(rented_bike_count) avg_bike_count\n",
    "            FROM seoul_bike_sharing\n",
    "            GROUP BY seasons, hour\n",
    "            ORDER BY avg_bike_count DESC\n",
    "            LIMIT 10;\"\n",
    "sqlQuery(conn, query7, believeNRows=FALSE)"
   ]
  },
  {
   "cell_type": "markdown",
   "metadata": {},
   "source": [
    "## Task 8 - Rental Seasonality\n",
    "#### Find the average hourly bike count during each season. \n",
    "Also include the minimum, maximum, and standard deviation of the hourly bike count for each season. \n"
   ]
  },
  {
   "cell_type": "markdown",
   "metadata": {},
   "source": [
    "### Solution 8\n"
   ]
  },
  {
   "cell_type": "code",
   "execution_count": 31,
   "metadata": {
    "tags": []
   },
   "outputs": [
    {
     "data": {
      "text/html": [
       "<table>\n",
       "<caption>A data.frame: 96 × 6</caption>\n",
       "<thead>\n",
       "\t<tr><th></th><th scope=col>SEASONS</th><th scope=col>HOUR</th><th scope=col>AVG_BIKE_COUNT</th><th scope=col>MIN_BIKE_COUNT</th><th scope=col>MAX_BIKE_COUNT</th><th scope=col>STD_BIKE_COUNT</th></tr>\n",
       "\t<tr><th></th><th scope=col>&lt;fct&gt;</th><th scope=col>&lt;int&gt;</th><th scope=col>&lt;int&gt;</th><th scope=col>&lt;int&gt;</th><th scope=col>&lt;int&gt;</th><th scope=col>&lt;dbl&gt;</th></tr>\n",
       "</thead>\n",
       "<tbody>\n",
       "\t<tr><th scope=row>1</th><td>Autumn</td><td> 0</td><td> 709</td><td>119</td><td>1336</td><td>219.14298</td></tr>\n",
       "\t<tr><th scope=row>2</th><td>Autumn</td><td> 1</td><td> 552</td><td>144</td><td>1001</td><td>191.54216</td></tr>\n",
       "\t<tr><th scope=row>3</th><td>Autumn</td><td> 2</td><td> 377</td><td> 55</td><td> 785</td><td>144.90134</td></tr>\n",
       "\t<tr><th scope=row>4</th><td>Autumn</td><td> 3</td><td> 256</td><td> 28</td><td> 514</td><td>102.53108</td></tr>\n",
       "\t<tr><th scope=row>5</th><td>Autumn</td><td> 4</td><td> 169</td><td> 24</td><td> 338</td><td> 58.63957</td></tr>\n",
       "\t<tr><th scope=row>6</th><td>Autumn</td><td> 5</td><td> 163</td><td> 24</td><td> 264</td><td> 53.88174</td></tr>\n",
       "\t<tr><th scope=row>7</th><td>Autumn</td><td> 6</td><td> 359</td><td> 23</td><td> 691</td><td>180.27049</td></tr>\n",
       "\t<tr><th scope=row>8</th><td>Autumn</td><td> 7</td><td> 788</td><td>  5</td><td>1556</td><td>457.96861</td></tr>\n",
       "\t<tr><th scope=row>9</th><td>Autumn</td><td> 8</td><td>1345</td><td>  6</td><td>2391</td><td>758.35956</td></tr>\n",
       "\t<tr><th scope=row>10</th><td>Autumn</td><td> 9</td><td> 848</td><td>  5</td><td>1322</td><td>334.52653</td></tr>\n",
       "\t<tr><th scope=row>11</th><td>Autumn</td><td>10</td><td> 715</td><td>  2</td><td>1113</td><td>252.56839</td></tr>\n",
       "\t<tr><th scope=row>12</th><td>Autumn</td><td>11</td><td> 802</td><td> 20</td><td>1284</td><td>302.57238</td></tr>\n",
       "\t<tr><th scope=row>13</th><td>Autumn</td><td>12</td><td> 934</td><td> 17</td><td>1634</td><td>347.69066</td></tr>\n",
       "\t<tr><th scope=row>14</th><td>Autumn</td><td>13</td><td>1002</td><td> 18</td><td>1849</td><td>369.30997</td></tr>\n",
       "\t<tr><th scope=row>15</th><td>Autumn</td><td>14</td><td>1058</td><td> 17</td><td>1995</td><td>403.85277</td></tr>\n",
       "\t<tr><th scope=row>16</th><td>Autumn</td><td>15</td><td>1156</td><td>  8</td><td>2200</td><td>455.21810</td></tr>\n",
       "\t<tr><th scope=row>17</th><td>Autumn</td><td>16</td><td>1293</td><td> 14</td><td>2270</td><td>498.10638</td></tr>\n",
       "\t<tr><th scope=row>18</th><td>Autumn</td><td>17</td><td>1562</td><td> 23</td><td>2432</td><td>554.31649</td></tr>\n",
       "\t<tr><th scope=row>19</th><td>Autumn</td><td>18</td><td>1983</td><td> 40</td><td>3298</td><td>778.44135</td></tr>\n",
       "\t<tr><th scope=row>20</th><td>Autumn</td><td>19</td><td>1515</td><td> 19</td><td>2518</td><td>571.14972</td></tr>\n",
       "\t<tr><th scope=row>21</th><td>Autumn</td><td>20</td><td>1321</td><td> 12</td><td>2259</td><td>508.99136</td></tr>\n",
       "\t<tr><th scope=row>22</th><td>Autumn</td><td>21</td><td>1253</td><td> 21</td><td>2212</td><td>490.92858</td></tr>\n",
       "\t<tr><th scope=row>23</th><td>Autumn</td><td>22</td><td>1130</td><td> 14</td><td>1868</td><td>411.96934</td></tr>\n",
       "\t<tr><th scope=row>24</th><td>Autumn</td><td>23</td><td> 828</td><td>  4</td><td>1523</td><td>292.97832</td></tr>\n",
       "\t<tr><th scope=row>25</th><td>Spring</td><td> 0</td><td> 481</td><td> 22</td><td>1089</td><td>253.38673</td></tr>\n",
       "\t<tr><th scope=row>26</th><td>Spring</td><td> 1</td><td> 363</td><td> 23</td><td> 837</td><td>206.04322</td></tr>\n",
       "\t<tr><th scope=row>27</th><td>Spring</td><td> 2</td><td> 252</td><td>  9</td><td> 590</td><td>145.32266</td></tr>\n",
       "\t<tr><th scope=row>28</th><td>Spring</td><td> 3</td><td> 168</td><td>  2</td><td> 423</td><td>101.20444</td></tr>\n",
       "\t<tr><th scope=row>29</th><td>Spring</td><td> 4</td><td> 108</td><td>  2</td><td> 252</td><td> 59.64577</td></tr>\n",
       "\t<tr><th scope=row>30</th><td>Spring</td><td> 5</td><td> 116</td><td>  6</td><td> 265</td><td> 64.93117</td></tr>\n",
       "\t<tr><th scope=row>⋮</th><td>⋮</td><td>⋮</td><td>⋮</td><td>⋮</td><td>⋮</td><td>⋮</td></tr>\n",
       "\t<tr><th scope=row>67</th><td>Summer</td><td>18</td><td>2135</td><td>17</td><td>3556</td><td>884.08294</td></tr>\n",
       "\t<tr><th scope=row>68</th><td>Summer</td><td>19</td><td>1889</td><td>18</td><td>2984</td><td>728.87994</td></tr>\n",
       "\t<tr><th scope=row>69</th><td>Summer</td><td>20</td><td>1801</td><td>10</td><td>2579</td><td>662.21626</td></tr>\n",
       "\t<tr><th scope=row>70</th><td>Summer</td><td>21</td><td>1754</td><td>17</td><td>2505</td><td>596.13742</td></tr>\n",
       "\t<tr><th scope=row>71</th><td>Summer</td><td>22</td><td>1567</td><td>16</td><td>2309</td><td>516.64344</td></tr>\n",
       "\t<tr><th scope=row>72</th><td>Summer</td><td>23</td><td>1153</td><td>15</td><td>1732</td><td>377.80666</td></tr>\n",
       "\t<tr><th scope=row>73</th><td>Winter</td><td> 0</td><td> 165</td><td>42</td><td> 342</td><td> 63.81163</td></tr>\n",
       "\t<tr><th scope=row>74</th><td>Winter</td><td> 1</td><td> 159</td><td>43</td><td> 337</td><td> 65.84247</td></tr>\n",
       "\t<tr><th scope=row>75</th><td>Winter</td><td> 2</td><td> 117</td><td>38</td><td> 312</td><td> 54.94533</td></tr>\n",
       "\t<tr><th scope=row>76</th><td>Winter</td><td> 3</td><td>  77</td><td>21</td><td> 230</td><td> 37.68256</td></tr>\n",
       "\t<tr><th scope=row>77</th><td>Winter</td><td> 4</td><td>  50</td><td>20</td><td> 120</td><td> 19.05561</td></tr>\n",
       "\t<tr><th scope=row>78</th><td>Winter</td><td> 5</td><td>  51</td><td>13</td><td> 100</td><td> 18.98759</td></tr>\n",
       "\t<tr><th scope=row>79</th><td>Winter</td><td> 6</td><td>  92</td><td> 9</td><td> 200</td><td> 45.48372</td></tr>\n",
       "\t<tr><th scope=row>80</th><td>Winter</td><td> 7</td><td> 209</td><td> 3</td><td> 498</td><td>125.47121</td></tr>\n",
       "\t<tr><th scope=row>81</th><td>Winter</td><td> 8</td><td> 422</td><td> 4</td><td> 937</td><td>253.13778</td></tr>\n",
       "\t<tr><th scope=row>82</th><td>Winter</td><td> 9</td><td> 254</td><td> 3</td><td> 509</td><td>111.70276</td></tr>\n",
       "\t<tr><th scope=row>83</th><td>Winter</td><td>10</td><td> 186</td><td> 4</td><td> 339</td><td> 67.98150</td></tr>\n",
       "\t<tr><th scope=row>84</th><td>Winter</td><td>11</td><td> 228</td><td> 9</td><td> 388</td><td> 78.23964</td></tr>\n",
       "\t<tr><th scope=row>85</th><td>Winter</td><td>12</td><td> 263</td><td> 4</td><td> 479</td><td> 88.68163</td></tr>\n",
       "\t<tr><th scope=row>86</th><td>Winter</td><td>13</td><td> 275</td><td> 7</td><td> 606</td><td> 98.32616</td></tr>\n",
       "\t<tr><th scope=row>87</th><td>Winter</td><td>14</td><td> 284</td><td>17</td><td> 611</td><td>105.02394</td></tr>\n",
       "\t<tr><th scope=row>88</th><td>Winter</td><td>15</td><td> 298</td><td> 7</td><td> 621</td><td>117.54473</td></tr>\n",
       "\t<tr><th scope=row>89</th><td>Winter</td><td>16</td><td> 308</td><td> 9</td><td> 688</td><td>126.50569</td></tr>\n",
       "\t<tr><th scope=row>90</th><td>Winter</td><td>17</td><td> 342</td><td> 8</td><td> 646</td><td>131.99514</td></tr>\n",
       "\t<tr><th scope=row>91</th><td>Winter</td><td>18</td><td> 438</td><td>11</td><td> 929</td><td>216.66413</td></tr>\n",
       "\t<tr><th scope=row>92</th><td>Winter</td><td>19</td><td> 304</td><td>19</td><td> 619</td><td>140.32070</td></tr>\n",
       "\t<tr><th scope=row>93</th><td>Winter</td><td>20</td><td> 243</td><td> 8</td><td> 483</td><td> 96.22694</td></tr>\n",
       "\t<tr><th scope=row>94</th><td>Winter</td><td>21</td><td> 240</td><td>10</td><td> 512</td><td> 98.08061</td></tr>\n",
       "\t<tr><th scope=row>95</th><td>Winter</td><td>22</td><td> 225</td><td>13</td><td> 461</td><td> 91.87687</td></tr>\n",
       "\t<tr><th scope=row>96</th><td>Winter</td><td>23</td><td> 173</td><td>23</td><td> 366</td><td> 67.49684</td></tr>\n",
       "</tbody>\n",
       "</table>\n"
      ],
      "text/latex": [
       "A data.frame: 96 × 6\n",
       "\\begin{tabular}{r|llllll}\n",
       "  & SEASONS & HOUR & AVG\\_BIKE\\_COUNT & MIN\\_BIKE\\_COUNT & MAX\\_BIKE\\_COUNT & STD\\_BIKE\\_COUNT\\\\\n",
       "  & <fct> & <int> & <int> & <int> & <int> & <dbl>\\\\\n",
       "\\hline\n",
       "\t1 & Autumn &  0 &  709 & 119 & 1336 & 219.14298\\\\\n",
       "\t2 & Autumn &  1 &  552 & 144 & 1001 & 191.54216\\\\\n",
       "\t3 & Autumn &  2 &  377 &  55 &  785 & 144.90134\\\\\n",
       "\t4 & Autumn &  3 &  256 &  28 &  514 & 102.53108\\\\\n",
       "\t5 & Autumn &  4 &  169 &  24 &  338 &  58.63957\\\\\n",
       "\t6 & Autumn &  5 &  163 &  24 &  264 &  53.88174\\\\\n",
       "\t7 & Autumn &  6 &  359 &  23 &  691 & 180.27049\\\\\n",
       "\t8 & Autumn &  7 &  788 &   5 & 1556 & 457.96861\\\\\n",
       "\t9 & Autumn &  8 & 1345 &   6 & 2391 & 758.35956\\\\\n",
       "\t10 & Autumn &  9 &  848 &   5 & 1322 & 334.52653\\\\\n",
       "\t11 & Autumn & 10 &  715 &   2 & 1113 & 252.56839\\\\\n",
       "\t12 & Autumn & 11 &  802 &  20 & 1284 & 302.57238\\\\\n",
       "\t13 & Autumn & 12 &  934 &  17 & 1634 & 347.69066\\\\\n",
       "\t14 & Autumn & 13 & 1002 &  18 & 1849 & 369.30997\\\\\n",
       "\t15 & Autumn & 14 & 1058 &  17 & 1995 & 403.85277\\\\\n",
       "\t16 & Autumn & 15 & 1156 &   8 & 2200 & 455.21810\\\\\n",
       "\t17 & Autumn & 16 & 1293 &  14 & 2270 & 498.10638\\\\\n",
       "\t18 & Autumn & 17 & 1562 &  23 & 2432 & 554.31649\\\\\n",
       "\t19 & Autumn & 18 & 1983 &  40 & 3298 & 778.44135\\\\\n",
       "\t20 & Autumn & 19 & 1515 &  19 & 2518 & 571.14972\\\\\n",
       "\t21 & Autumn & 20 & 1321 &  12 & 2259 & 508.99136\\\\\n",
       "\t22 & Autumn & 21 & 1253 &  21 & 2212 & 490.92858\\\\\n",
       "\t23 & Autumn & 22 & 1130 &  14 & 1868 & 411.96934\\\\\n",
       "\t24 & Autumn & 23 &  828 &   4 & 1523 & 292.97832\\\\\n",
       "\t25 & Spring &  0 &  481 &  22 & 1089 & 253.38673\\\\\n",
       "\t26 & Spring &  1 &  363 &  23 &  837 & 206.04322\\\\\n",
       "\t27 & Spring &  2 &  252 &   9 &  590 & 145.32266\\\\\n",
       "\t28 & Spring &  3 &  168 &   2 &  423 & 101.20444\\\\\n",
       "\t29 & Spring &  4 &  108 &   2 &  252 &  59.64577\\\\\n",
       "\t30 & Spring &  5 &  116 &   6 &  265 &  64.93117\\\\\n",
       "\t⋮ & ⋮ & ⋮ & ⋮ & ⋮ & ⋮ & ⋮\\\\\n",
       "\t67 & Summer & 18 & 2135 & 17 & 3556 & 884.08294\\\\\n",
       "\t68 & Summer & 19 & 1889 & 18 & 2984 & 728.87994\\\\\n",
       "\t69 & Summer & 20 & 1801 & 10 & 2579 & 662.21626\\\\\n",
       "\t70 & Summer & 21 & 1754 & 17 & 2505 & 596.13742\\\\\n",
       "\t71 & Summer & 22 & 1567 & 16 & 2309 & 516.64344\\\\\n",
       "\t72 & Summer & 23 & 1153 & 15 & 1732 & 377.80666\\\\\n",
       "\t73 & Winter &  0 &  165 & 42 &  342 &  63.81163\\\\\n",
       "\t74 & Winter &  1 &  159 & 43 &  337 &  65.84247\\\\\n",
       "\t75 & Winter &  2 &  117 & 38 &  312 &  54.94533\\\\\n",
       "\t76 & Winter &  3 &   77 & 21 &  230 &  37.68256\\\\\n",
       "\t77 & Winter &  4 &   50 & 20 &  120 &  19.05561\\\\\n",
       "\t78 & Winter &  5 &   51 & 13 &  100 &  18.98759\\\\\n",
       "\t79 & Winter &  6 &   92 &  9 &  200 &  45.48372\\\\\n",
       "\t80 & Winter &  7 &  209 &  3 &  498 & 125.47121\\\\\n",
       "\t81 & Winter &  8 &  422 &  4 &  937 & 253.13778\\\\\n",
       "\t82 & Winter &  9 &  254 &  3 &  509 & 111.70276\\\\\n",
       "\t83 & Winter & 10 &  186 &  4 &  339 &  67.98150\\\\\n",
       "\t84 & Winter & 11 &  228 &  9 &  388 &  78.23964\\\\\n",
       "\t85 & Winter & 12 &  263 &  4 &  479 &  88.68163\\\\\n",
       "\t86 & Winter & 13 &  275 &  7 &  606 &  98.32616\\\\\n",
       "\t87 & Winter & 14 &  284 & 17 &  611 & 105.02394\\\\\n",
       "\t88 & Winter & 15 &  298 &  7 &  621 & 117.54473\\\\\n",
       "\t89 & Winter & 16 &  308 &  9 &  688 & 126.50569\\\\\n",
       "\t90 & Winter & 17 &  342 &  8 &  646 & 131.99514\\\\\n",
       "\t91 & Winter & 18 &  438 & 11 &  929 & 216.66413\\\\\n",
       "\t92 & Winter & 19 &  304 & 19 &  619 & 140.32070\\\\\n",
       "\t93 & Winter & 20 &  243 &  8 &  483 &  96.22694\\\\\n",
       "\t94 & Winter & 21 &  240 & 10 &  512 &  98.08061\\\\\n",
       "\t95 & Winter & 22 &  225 & 13 &  461 &  91.87687\\\\\n",
       "\t96 & Winter & 23 &  173 & 23 &  366 &  67.49684\\\\\n",
       "\\end{tabular}\n"
      ],
      "text/markdown": [
       "\n",
       "A data.frame: 96 × 6\n",
       "\n",
       "| <!--/--> | SEASONS &lt;fct&gt; | HOUR &lt;int&gt; | AVG_BIKE_COUNT &lt;int&gt; | MIN_BIKE_COUNT &lt;int&gt; | MAX_BIKE_COUNT &lt;int&gt; | STD_BIKE_COUNT &lt;dbl&gt; |\n",
       "|---|---|---|---|---|---|---|\n",
       "| 1 | Autumn |  0 |  709 | 119 | 1336 | 219.14298 |\n",
       "| 2 | Autumn |  1 |  552 | 144 | 1001 | 191.54216 |\n",
       "| 3 | Autumn |  2 |  377 |  55 |  785 | 144.90134 |\n",
       "| 4 | Autumn |  3 |  256 |  28 |  514 | 102.53108 |\n",
       "| 5 | Autumn |  4 |  169 |  24 |  338 |  58.63957 |\n",
       "| 6 | Autumn |  5 |  163 |  24 |  264 |  53.88174 |\n",
       "| 7 | Autumn |  6 |  359 |  23 |  691 | 180.27049 |\n",
       "| 8 | Autumn |  7 |  788 |   5 | 1556 | 457.96861 |\n",
       "| 9 | Autumn |  8 | 1345 |   6 | 2391 | 758.35956 |\n",
       "| 10 | Autumn |  9 |  848 |   5 | 1322 | 334.52653 |\n",
       "| 11 | Autumn | 10 |  715 |   2 | 1113 | 252.56839 |\n",
       "| 12 | Autumn | 11 |  802 |  20 | 1284 | 302.57238 |\n",
       "| 13 | Autumn | 12 |  934 |  17 | 1634 | 347.69066 |\n",
       "| 14 | Autumn | 13 | 1002 |  18 | 1849 | 369.30997 |\n",
       "| 15 | Autumn | 14 | 1058 |  17 | 1995 | 403.85277 |\n",
       "| 16 | Autumn | 15 | 1156 |   8 | 2200 | 455.21810 |\n",
       "| 17 | Autumn | 16 | 1293 |  14 | 2270 | 498.10638 |\n",
       "| 18 | Autumn | 17 | 1562 |  23 | 2432 | 554.31649 |\n",
       "| 19 | Autumn | 18 | 1983 |  40 | 3298 | 778.44135 |\n",
       "| 20 | Autumn | 19 | 1515 |  19 | 2518 | 571.14972 |\n",
       "| 21 | Autumn | 20 | 1321 |  12 | 2259 | 508.99136 |\n",
       "| 22 | Autumn | 21 | 1253 |  21 | 2212 | 490.92858 |\n",
       "| 23 | Autumn | 22 | 1130 |  14 | 1868 | 411.96934 |\n",
       "| 24 | Autumn | 23 |  828 |   4 | 1523 | 292.97832 |\n",
       "| 25 | Spring |  0 |  481 |  22 | 1089 | 253.38673 |\n",
       "| 26 | Spring |  1 |  363 |  23 |  837 | 206.04322 |\n",
       "| 27 | Spring |  2 |  252 |   9 |  590 | 145.32266 |\n",
       "| 28 | Spring |  3 |  168 |   2 |  423 | 101.20444 |\n",
       "| 29 | Spring |  4 |  108 |   2 |  252 |  59.64577 |\n",
       "| 30 | Spring |  5 |  116 |   6 |  265 |  64.93117 |\n",
       "| ⋮ | ⋮ | ⋮ | ⋮ | ⋮ | ⋮ | ⋮ |\n",
       "| 67 | Summer | 18 | 2135 | 17 | 3556 | 884.08294 |\n",
       "| 68 | Summer | 19 | 1889 | 18 | 2984 | 728.87994 |\n",
       "| 69 | Summer | 20 | 1801 | 10 | 2579 | 662.21626 |\n",
       "| 70 | Summer | 21 | 1754 | 17 | 2505 | 596.13742 |\n",
       "| 71 | Summer | 22 | 1567 | 16 | 2309 | 516.64344 |\n",
       "| 72 | Summer | 23 | 1153 | 15 | 1732 | 377.80666 |\n",
       "| 73 | Winter |  0 |  165 | 42 |  342 |  63.81163 |\n",
       "| 74 | Winter |  1 |  159 | 43 |  337 |  65.84247 |\n",
       "| 75 | Winter |  2 |  117 | 38 |  312 |  54.94533 |\n",
       "| 76 | Winter |  3 |   77 | 21 |  230 |  37.68256 |\n",
       "| 77 | Winter |  4 |   50 | 20 |  120 |  19.05561 |\n",
       "| 78 | Winter |  5 |   51 | 13 |  100 |  18.98759 |\n",
       "| 79 | Winter |  6 |   92 |  9 |  200 |  45.48372 |\n",
       "| 80 | Winter |  7 |  209 |  3 |  498 | 125.47121 |\n",
       "| 81 | Winter |  8 |  422 |  4 |  937 | 253.13778 |\n",
       "| 82 | Winter |  9 |  254 |  3 |  509 | 111.70276 |\n",
       "| 83 | Winter | 10 |  186 |  4 |  339 |  67.98150 |\n",
       "| 84 | Winter | 11 |  228 |  9 |  388 |  78.23964 |\n",
       "| 85 | Winter | 12 |  263 |  4 |  479 |  88.68163 |\n",
       "| 86 | Winter | 13 |  275 |  7 |  606 |  98.32616 |\n",
       "| 87 | Winter | 14 |  284 | 17 |  611 | 105.02394 |\n",
       "| 88 | Winter | 15 |  298 |  7 |  621 | 117.54473 |\n",
       "| 89 | Winter | 16 |  308 |  9 |  688 | 126.50569 |\n",
       "| 90 | Winter | 17 |  342 |  8 |  646 | 131.99514 |\n",
       "| 91 | Winter | 18 |  438 | 11 |  929 | 216.66413 |\n",
       "| 92 | Winter | 19 |  304 | 19 |  619 | 140.32070 |\n",
       "| 93 | Winter | 20 |  243 |  8 |  483 |  96.22694 |\n",
       "| 94 | Winter | 21 |  240 | 10 |  512 |  98.08061 |\n",
       "| 95 | Winter | 22 |  225 | 13 |  461 |  91.87687 |\n",
       "| 96 | Winter | 23 |  173 | 23 |  366 |  67.49684 |\n",
       "\n"
      ],
      "text/plain": [
       "   SEASONS HOUR AVG_BIKE_COUNT MIN_BIKE_COUNT MAX_BIKE_COUNT STD_BIKE_COUNT\n",
       "1  Autumn   0    709           119            1336           219.14298     \n",
       "2  Autumn   1    552           144            1001           191.54216     \n",
       "3  Autumn   2    377            55             785           144.90134     \n",
       "4  Autumn   3    256            28             514           102.53108     \n",
       "5  Autumn   4    169            24             338            58.63957     \n",
       "6  Autumn   5    163            24             264            53.88174     \n",
       "7  Autumn   6    359            23             691           180.27049     \n",
       "8  Autumn   7    788             5            1556           457.96861     \n",
       "9  Autumn   8   1345             6            2391           758.35956     \n",
       "10 Autumn   9    848             5            1322           334.52653     \n",
       "11 Autumn  10    715             2            1113           252.56839     \n",
       "12 Autumn  11    802            20            1284           302.57238     \n",
       "13 Autumn  12    934            17            1634           347.69066     \n",
       "14 Autumn  13   1002            18            1849           369.30997     \n",
       "15 Autumn  14   1058            17            1995           403.85277     \n",
       "16 Autumn  15   1156             8            2200           455.21810     \n",
       "17 Autumn  16   1293            14            2270           498.10638     \n",
       "18 Autumn  17   1562            23            2432           554.31649     \n",
       "19 Autumn  18   1983            40            3298           778.44135     \n",
       "20 Autumn  19   1515            19            2518           571.14972     \n",
       "21 Autumn  20   1321            12            2259           508.99136     \n",
       "22 Autumn  21   1253            21            2212           490.92858     \n",
       "23 Autumn  22   1130            14            1868           411.96934     \n",
       "24 Autumn  23    828             4            1523           292.97832     \n",
       "25 Spring   0    481            22            1089           253.38673     \n",
       "26 Spring   1    363            23             837           206.04322     \n",
       "27 Spring   2    252             9             590           145.32266     \n",
       "28 Spring   3    168             2             423           101.20444     \n",
       "29 Spring   4    108             2             252            59.64577     \n",
       "30 Spring   5    116             6             265            64.93117     \n",
       "⋮  ⋮       ⋮    ⋮              ⋮              ⋮              ⋮             \n",
       "67 Summer  18   2135           17             3556           884.08294     \n",
       "68 Summer  19   1889           18             2984           728.87994     \n",
       "69 Summer  20   1801           10             2579           662.21626     \n",
       "70 Summer  21   1754           17             2505           596.13742     \n",
       "71 Summer  22   1567           16             2309           516.64344     \n",
       "72 Summer  23   1153           15             1732           377.80666     \n",
       "73 Winter   0    165           42              342            63.81163     \n",
       "74 Winter   1    159           43              337            65.84247     \n",
       "75 Winter   2    117           38              312            54.94533     \n",
       "76 Winter   3     77           21              230            37.68256     \n",
       "77 Winter   4     50           20              120            19.05561     \n",
       "78 Winter   5     51           13              100            18.98759     \n",
       "79 Winter   6     92            9              200            45.48372     \n",
       "80 Winter   7    209            3              498           125.47121     \n",
       "81 Winter   8    422            4              937           253.13778     \n",
       "82 Winter   9    254            3              509           111.70276     \n",
       "83 Winter  10    186            4              339            67.98150     \n",
       "84 Winter  11    228            9              388            78.23964     \n",
       "85 Winter  12    263            4              479            88.68163     \n",
       "86 Winter  13    275            7              606            98.32616     \n",
       "87 Winter  14    284           17              611           105.02394     \n",
       "88 Winter  15    298            7              621           117.54473     \n",
       "89 Winter  16    308            9              688           126.50569     \n",
       "90 Winter  17    342            8              646           131.99514     \n",
       "91 Winter  18    438           11              929           216.66413     \n",
       "92 Winter  19    304           19              619           140.32070     \n",
       "93 Winter  20    243            8              483            96.22694     \n",
       "94 Winter  21    240           10              512            98.08061     \n",
       "95 Winter  22    225           13              461            91.87687     \n",
       "96 Winter  23    173           23              366            67.49684     "
      ]
     },
     "metadata": {},
     "output_type": "display_data"
    }
   ],
   "source": [
    "# provide your solution here\n",
    "query8 <- \"SELECT seasons, hour, AVG(rented_bike_count) avg_bike_count, MIN(rented_bike_count) min_bike_count, MAX(rented_bike_count) max_bike_count, STDDEV_POP(rented_bike_count) std_bike_count\n",
    "            FROM seoul_bike_sharing\n",
    "            GROUP BY seasons, hour\n",
    "            ORDER BY seasons, hour;\"\n",
    "sqlQuery(conn, query8, believeNRows=FALSE)"
   ]
  },
  {
   "cell_type": "markdown",
   "metadata": {},
   "source": [
    "Let's explore a bit and see what might be the most significant contributing factors in terms of the provided data.\n"
   ]
  },
  {
   "cell_type": "markdown",
   "metadata": {},
   "source": [
    "## Task 9 - Weather Seasonality\n",
    "#### Consider the weather over each season. On average, what were the TEMPERATURE, HUMIDITY, WIND_SPEED, VISIBILITY, DEW_POINT_TEMPERATURE, SOLAR_RADIATION, RAINFALL, and SNOWFALL per season?\n",
    "Include the average bike count as well , and rank the results by average bike count so you can see if it is correlated with the weather at all. \n"
   ]
  },
  {
   "cell_type": "markdown",
   "metadata": {},
   "source": [
    "### Solution 9\n"
   ]
  },
  {
   "cell_type": "code",
   "execution_count": 33,
   "metadata": {
    "tags": []
   },
   "outputs": [
    {
     "data": {
      "text/html": [
       "<table>\n",
       "<caption>A data.frame: 4 × 10</caption>\n",
       "<thead>\n",
       "\t<tr><th></th><th scope=col>SEASONS</th><th scope=col>AVG_TEMPERATURE</th><th scope=col>AVG_HUMIDITY</th><th scope=col>AVG_WIND_SPEED</th><th scope=col>AVG_VISIBILITY</th><th scope=col>AVG_DEW_POINT_TEMPERATURE</th><th scope=col>AVG_SOLAR_RADIATION</th><th scope=col>AVG_RAINFALL</th><th scope=col>AVG_SNOWFALL</th><th scope=col>AVG_BIKE_COUNT</th></tr>\n",
       "\t<tr><th></th><th scope=col>&lt;fct&gt;</th><th scope=col>&lt;dbl&gt;</th><th scope=col>&lt;int&gt;</th><th scope=col>&lt;dbl&gt;</th><th scope=col>&lt;int&gt;</th><th scope=col>&lt;dbl&gt;</th><th scope=col>&lt;dbl&gt;</th><th scope=col>&lt;dbl&gt;</th><th scope=col>&lt;dbl&gt;</th><th scope=col>&lt;int&gt;</th></tr>\n",
       "</thead>\n",
       "<tbody>\n",
       "\t<tr><th scope=row>1</th><td>Summer</td><td>26.587274</td><td>64</td><td>1.609420</td><td>1501</td><td> 18.750136</td><td>0.7612545</td><td>0.25348732</td><td>0.00000000</td><td>1034</td></tr>\n",
       "\t<tr><th scope=row>2</th><td>Autumn</td><td>13.821167</td><td>59</td><td>1.492101</td><td>1558</td><td>  5.150594</td><td>0.5227827</td><td>0.11765617</td><td>0.06350026</td><td> 924</td></tr>\n",
       "\t<tr><th scope=row>3</th><td>Spring</td><td>13.021389</td><td>58</td><td>1.857778</td><td>1240</td><td>  4.091389</td><td>0.6803009</td><td>0.18694444</td><td>0.00000000</td><td> 746</td></tr>\n",
       "\t<tr><th scope=row>4</th><td>Winter</td><td>-2.540463</td><td>49</td><td>1.922685</td><td>1445</td><td>-12.416667</td><td>0.2981806</td><td>0.03282407</td><td>0.24750000</td><td> 225</td></tr>\n",
       "</tbody>\n",
       "</table>\n"
      ],
      "text/latex": [
       "A data.frame: 4 × 10\n",
       "\\begin{tabular}{r|llllllllll}\n",
       "  & SEASONS & AVG\\_TEMPERATURE & AVG\\_HUMIDITY & AVG\\_WIND\\_SPEED & AVG\\_VISIBILITY & AVG\\_DEW\\_POINT\\_TEMPERATURE & AVG\\_SOLAR\\_RADIATION & AVG\\_RAINFALL & AVG\\_SNOWFALL & AVG\\_BIKE\\_COUNT\\\\\n",
       "  & <fct> & <dbl> & <int> & <dbl> & <int> & <dbl> & <dbl> & <dbl> & <dbl> & <int>\\\\\n",
       "\\hline\n",
       "\t1 & Summer & 26.587274 & 64 & 1.609420 & 1501 &  18.750136 & 0.7612545 & 0.25348732 & 0.00000000 & 1034\\\\\n",
       "\t2 & Autumn & 13.821167 & 59 & 1.492101 & 1558 &   5.150594 & 0.5227827 & 0.11765617 & 0.06350026 &  924\\\\\n",
       "\t3 & Spring & 13.021389 & 58 & 1.857778 & 1240 &   4.091389 & 0.6803009 & 0.18694444 & 0.00000000 &  746\\\\\n",
       "\t4 & Winter & -2.540463 & 49 & 1.922685 & 1445 & -12.416667 & 0.2981806 & 0.03282407 & 0.24750000 &  225\\\\\n",
       "\\end{tabular}\n"
      ],
      "text/markdown": [
       "\n",
       "A data.frame: 4 × 10\n",
       "\n",
       "| <!--/--> | SEASONS &lt;fct&gt; | AVG_TEMPERATURE &lt;dbl&gt; | AVG_HUMIDITY &lt;int&gt; | AVG_WIND_SPEED &lt;dbl&gt; | AVG_VISIBILITY &lt;int&gt; | AVG_DEW_POINT_TEMPERATURE &lt;dbl&gt; | AVG_SOLAR_RADIATION &lt;dbl&gt; | AVG_RAINFALL &lt;dbl&gt; | AVG_SNOWFALL &lt;dbl&gt; | AVG_BIKE_COUNT &lt;int&gt; |\n",
       "|---|---|---|---|---|---|---|---|---|---|---|\n",
       "| 1 | Summer | 26.587274 | 64 | 1.609420 | 1501 |  18.750136 | 0.7612545 | 0.25348732 | 0.00000000 | 1034 |\n",
       "| 2 | Autumn | 13.821167 | 59 | 1.492101 | 1558 |   5.150594 | 0.5227827 | 0.11765617 | 0.06350026 |  924 |\n",
       "| 3 | Spring | 13.021389 | 58 | 1.857778 | 1240 |   4.091389 | 0.6803009 | 0.18694444 | 0.00000000 |  746 |\n",
       "| 4 | Winter | -2.540463 | 49 | 1.922685 | 1445 | -12.416667 | 0.2981806 | 0.03282407 | 0.24750000 |  225 |\n",
       "\n"
      ],
      "text/plain": [
       "  SEASONS AVG_TEMPERATURE AVG_HUMIDITY AVG_WIND_SPEED AVG_VISIBILITY\n",
       "1 Summer  26.587274       64           1.609420       1501          \n",
       "2 Autumn  13.821167       59           1.492101       1558          \n",
       "3 Spring  13.021389       58           1.857778       1240          \n",
       "4 Winter  -2.540463       49           1.922685       1445          \n",
       "  AVG_DEW_POINT_TEMPERATURE AVG_SOLAR_RADIATION AVG_RAINFALL AVG_SNOWFALL\n",
       "1  18.750136                0.7612545           0.25348732   0.00000000  \n",
       "2   5.150594                0.5227827           0.11765617   0.06350026  \n",
       "3   4.091389                0.6803009           0.18694444   0.00000000  \n",
       "4 -12.416667                0.2981806           0.03282407   0.24750000  \n",
       "  AVG_BIKE_COUNT\n",
       "1 1034          \n",
       "2  924          \n",
       "3  746          \n",
       "4  225          "
      ]
     },
     "metadata": {},
     "output_type": "display_data"
    }
   ],
   "source": [
    "# provide your solution here\n",
    "query9 <- \"SELECT seasons,\n",
    "            AVG(temperature) avg_temperature,\n",
    "            AVG(humidity) avg_humidity,\n",
    "            AVG(wind_speed) avg_wind_speed,\n",
    "            AVG(visibility) avg_visibility,\n",
    "            AVG(dew_point_temperature) avg_dew_point_temperature,\n",
    "            AVG(solar_radiation) avg_solar_radiation,\n",
    "            AVG(rainfall) avg_rainfall,\n",
    "            AVG(snowfall) avg_snowfall,\n",
    "            AVG(rented_bike_count) avg_bike_count\n",
    "            FROM seoul_bike_sharing\n",
    "            GROUP BY seasons\n",
    "            ORDER BY avg_bike_count DESC;\"\n",
    "sqlQuery(conn, query9, believeNRows=FALSE)"
   ]
  },
  {
   "cell_type": "markdown",
   "metadata": {},
   "source": [
    "## Task 10 - Total Bike Count and City Info for Seoul\n",
    "#### Use an implicit join across the WORLD_CITIES and the BIKE_SHARING_SYSTEMS tables to determine the total number of bikes avaialble in Seoul, plus the following city information about Seoul: CITY, COUNTRY, LAT, LON, POPULATION, in a single view.\n",
    "Notice that in this case, the CITY column will work for the WORLD_CITIES table, but in general you would have to use the CITY_ASCII column.\n"
   ]
  },
  {
   "cell_type": "markdown",
   "metadata": {},
   "source": [
    "### Solution 10\n"
   ]
  },
  {
   "cell_type": "code",
   "execution_count": 51,
   "metadata": {
    "tags": []
   },
   "outputs": [
    {
     "data": {
      "text/html": [
       "<table>\n",
       "<caption>A data.frame: 1 × 6</caption>\n",
       "<thead>\n",
       "\t<tr><th></th><th scope=col>CITY</th><th scope=col>COUNTRY</th><th scope=col>LAT</th><th scope=col>LNG</th><th scope=col>POPULATION</th><th scope=col>TOTAL_BIKES</th></tr>\n",
       "\t<tr><th></th><th scope=col>&lt;fct&gt;</th><th scope=col>&lt;fct&gt;</th><th scope=col>&lt;dbl&gt;</th><th scope=col>&lt;dbl&gt;</th><th scope=col>&lt;int&gt;</th><th scope=col>&lt;int&gt;</th></tr>\n",
       "</thead>\n",
       "<tbody>\n",
       "\t<tr><th scope=row>1</th><td>Seoul</td><td>Korea, South</td><td>37.58</td><td>127</td><td>21794000</td><td>20000</td></tr>\n",
       "</tbody>\n",
       "</table>\n"
      ],
      "text/latex": [
       "A data.frame: 1 × 6\n",
       "\\begin{tabular}{r|llllll}\n",
       "  & CITY & COUNTRY & LAT & LNG & POPULATION & TOTAL\\_BIKES\\\\\n",
       "  & <fct> & <fct> & <dbl> & <dbl> & <int> & <int>\\\\\n",
       "\\hline\n",
       "\t1 & Seoul & Korea, South & 37.58 & 127 & 21794000 & 20000\\\\\n",
       "\\end{tabular}\n"
      ],
      "text/markdown": [
       "\n",
       "A data.frame: 1 × 6\n",
       "\n",
       "| <!--/--> | CITY &lt;fct&gt; | COUNTRY &lt;fct&gt; | LAT &lt;dbl&gt; | LNG &lt;dbl&gt; | POPULATION &lt;int&gt; | TOTAL_BIKES &lt;int&gt; |\n",
       "|---|---|---|---|---|---|---|\n",
       "| 1 | Seoul | Korea, South | 37.58 | 127 | 21794000 | 20000 |\n",
       "\n"
      ],
      "text/plain": [
       "  CITY  COUNTRY      LAT   LNG POPULATION TOTAL_BIKES\n",
       "1 Seoul Korea, South 37.58 127 21794000   20000      "
      ]
     },
     "metadata": {},
     "output_type": "display_data"
    }
   ],
   "source": [
    "# provide your solution here\n",
    "query10 <- \"SELECT\n",
    "            wc.city,\n",
    "            wc.country,\n",
    "            wc.lat,\n",
    "            wc.lng,\n",
    "            wc.population,\n",
    "            SUM(bs.bicycles) AS total_bikes\n",
    "            FROM\n",
    "            world_cities wc\n",
    "            JOIN bike_sharing_systems bs ON wc.CITY_A = bs.CITY\n",
    "            WHERE\n",
    "            wc.CITY = 'Seoul'\n",
    "            GROUP BY\n",
    "            wc.CITY,\n",
    "            wc.COUNTRY,\n",
    "            wc.LAT,\n",
    "            wc.LNG,\n",
    "            wc.POPULATION;\"\n",
    "sqlQuery(conn, query10, believeNRows=FALSE)"
   ]
  },
  {
   "cell_type": "markdown",
   "metadata": {},
   "source": [
    "## Task 11 - Find all city names and coordinates with comparable bike scale to Seoul's bike sharing system\n",
    "#### Find all cities with total bike counts between 15000 and 20000. Return the city and country names, plus the coordinates (LAT, LNG), population, and number of bicycles for each city.\n",
    "Later we will ask you to visualize these similar cities on leaflet, with some weather data.\n"
   ]
  },
  {
   "cell_type": "markdown",
   "metadata": {},
   "source": [
    "### Solution 11\n"
   ]
  },
  {
   "cell_type": "code",
   "execution_count": 52,
   "metadata": {
    "tags": []
   },
   "outputs": [
    {
     "data": {
      "text/html": [
       "<table>\n",
       "<caption>A data.frame: 1 × 6</caption>\n",
       "<thead>\n",
       "\t<tr><th></th><th scope=col>CITY</th><th scope=col>COUNTRY</th><th scope=col>LAT</th><th scope=col>LNG</th><th scope=col>POPULATION</th><th scope=col>TOTAL_BIKES</th></tr>\n",
       "\t<tr><th></th><th scope=col>&lt;fct&gt;</th><th scope=col>&lt;fct&gt;</th><th scope=col>&lt;dbl&gt;</th><th scope=col>&lt;dbl&gt;</th><th scope=col>&lt;int&gt;</th><th scope=col>&lt;int&gt;</th></tr>\n",
       "</thead>\n",
       "<tbody>\n",
       "\t<tr><th scope=row>1</th><td>Seoul</td><td>Korea, South</td><td>37.58</td><td>127</td><td>21794000</td><td>20000</td></tr>\n",
       "</tbody>\n",
       "</table>\n"
      ],
      "text/latex": [
       "A data.frame: 1 × 6\n",
       "\\begin{tabular}{r|llllll}\n",
       "  & CITY & COUNTRY & LAT & LNG & POPULATION & TOTAL\\_BIKES\\\\\n",
       "  & <fct> & <fct> & <dbl> & <dbl> & <int> & <int>\\\\\n",
       "\\hline\n",
       "\t1 & Seoul & Korea, South & 37.58 & 127 & 21794000 & 20000\\\\\n",
       "\\end{tabular}\n"
      ],
      "text/markdown": [
       "\n",
       "A data.frame: 1 × 6\n",
       "\n",
       "| <!--/--> | CITY &lt;fct&gt; | COUNTRY &lt;fct&gt; | LAT &lt;dbl&gt; | LNG &lt;dbl&gt; | POPULATION &lt;int&gt; | TOTAL_BIKES &lt;int&gt; |\n",
       "|---|---|---|---|---|---|---|\n",
       "| 1 | Seoul | Korea, South | 37.58 | 127 | 21794000 | 20000 |\n",
       "\n"
      ],
      "text/plain": [
       "  CITY  COUNTRY      LAT   LNG POPULATION TOTAL_BIKES\n",
       "1 Seoul Korea, South 37.58 127 21794000   20000      "
      ]
     },
     "metadata": {},
     "output_type": "display_data"
    }
   ],
   "source": [
    "# provide your solution here\n",
    "query11 <- \"SELECT wc.CITY, wc.COUNTRY, wc.LAT, wc.LNG, wc.POPULATION, bs.BICYCLES\n",
    "            FROM WORLD_CITIES wc\n",
    "            INNER JOIN BIKE_SHARING_SYSTEM bs ON WC.CITY_ASCII = bs.CITY\n",
    "            WHERE bs.BICYCLES >= 15000 AND bs.BICYCLES <= 20000;\"\n",
    "            sqlQuery(conn, query10, believeNRows=FALSE)"
   ]
  },
  {
   "cell_type": "code",
   "execution_count": 53,
   "metadata": {
    "tags": []
   },
   "outputs": [],
   "source": [
    "close(conn)"
   ]
  },
  {
   "cell_type": "markdown",
   "metadata": {},
   "source": [
    "## Author(s)\n",
    "\n",
    "<h4> Jeff Grossman </h4>\n",
    "\n",
    "## Contributor(s)\n",
    "\n",
    "<h4> Yan Luo, Rav Ahuja </h4>\n",
    "\n",
    "## Change log\n",
    "\n",
    "| Date       | Version | Changed by    | Change Description                                                                |\n",
    "| ---------- | ------- | ------------- | --------------------------------------------------------------------------------- |\n",
    "| 2021-05-04 | 0.2     | Jeff Grossman | Finalize                               |\n",
    "| 2021-04-22 | 0.2     | Jeff Grossman | Update as per peer review                               |\n",
    "| 2021-04-10 | 0.2     | Jeff Grossman | Add data sources and implicit joins                                  |\n",
    "| 2021-04-05 | 0.1     | Jeff Grossman | Start content creation                                                          |\n",
    "\n",
    "\n",
    "## <h3 align=\"center\"> © IBM Corporation 2021. All rights reserved. <h3/>\n"
   ]
  }
 ],
 "metadata": {
  "kernelspec": {
   "display_name": "R",
   "language": "R",
   "name": "conda-env-r-r"
  },
  "language_info": {
   "codemirror_mode": "r",
   "file_extension": ".r",
   "mimetype": "text/x-r-source",
   "name": "R",
   "pygments_lexer": "r",
   "version": "3.5.1"
  }
 },
 "nbformat": 4,
 "nbformat_minor": 4
}
