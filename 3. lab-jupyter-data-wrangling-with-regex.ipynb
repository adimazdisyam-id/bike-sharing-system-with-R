{
 "cells": [
  {
   "cell_type": "markdown",
   "metadata": {},
   "source": [
    "<center>\n",
    "<img src=\"https://cf-courses-data.s3.us.cloud-object-storage.appdomain.cloud/IBMDeveloperSkillsNetwork-RP0321EN-SkillsNetwork/labs/module_1/images/SN_web_lightmode.png\" width=\"300\"> \n",
    "</center>\n"
   ]
  },
  {
   "cell_type": "markdown",
   "metadata": {},
   "source": [
    "<h1>Data Wrangling with Regular Expressions</h1>\n",
    "\n",
    "Estimated time needed: **40** minutes\n"
   ]
  },
  {
   "cell_type": "markdown",
   "metadata": {},
   "source": [
    "## Lab Overview:\n",
    "\n",
    "In the previous data collection labs, you collected some raw datasets from several different sources. In this lab, you need to perform data wrangling tasks in order to improve data quality.\n"
   ]
  },
  {
   "cell_type": "markdown",
   "metadata": {},
   "source": [
    "You will again use regular expressions, along with the `stringr` package (part of `tidyverse`), to clean up the bike-sharing systems data that you previously web scraped from the wiki page: \n",
    "\n",
    "https://en.wikipedia.org/wiki/List_of_bicycle-sharing_systems\n",
    "\n",
    "<a href=\"https://cognitiveclass.ai/?utm_medium=Exinfluencer&utm_source=Exinfluencer&utm_content=000026UJ&utm_term=10006555&utm_id=NA-SkillsNetwork-Channel-SkillsNetworkCoursesIBMDeveloperSkillsNetworkRP0321ENSkillsNetwork878-2022-01-01\">\n",
    "    <img src=\"https://cf-courses-data.s3.us.cloud-object-storage.appdomain.cloud/IBMDeveloperSkillsNetwork-RP0321EN-SkillsNetwork/labs/module_1/images/l2-list-bike-sharing-systems.png\" width=\"800\" align=\"center\">\n",
    "</a>\n"
   ]
  },
  {
   "cell_type": "markdown",
   "metadata": {},
   "source": [
    "One typical challenge of web scraping is that data extracted from HTML pages may contain unnecessary or inconsistently fomatted information.  \n",
    "For example:\n",
    " - Textual annotations in numeric fields: `1000 (Updated with 1050)`\n",
    " - Attached reference links: `Bike sharing system [123]`\n",
    " - Inconsistent data formats: `Yes` and `Y` for the logical value `TRUE` or `2021-04-09` and `Apr 09, 2021` for the same date\n",
    " - HTML style tags: `<span style=\"color:blue\">Bike sharing system</span>`\n",
    " - Special characters: `&nbsp` for a white space\n",
    " \n",
    "Many more such examples of noise may be encountered in real-world scraped data and most of such text related noises could be handled by regular expressions.\n"
   ]
  },
  {
   "cell_type": "markdown",
   "metadata": {},
   "source": [
    "To summarize, you will be using `stringr` (part of `tidyverse`) and regular expressions to perform the following data wrangling tasks:\n",
    "  - TASK: Standardize column names for all collected datasets\n",
    "  - TASK: Remove undesired reference links from the scraped bike-sharing systems dataset\n",
    "  - TASK: Extract only the numeric value from undesired text annotations\n"
   ]
  },
  {
   "cell_type": "markdown",
   "metadata": {},
   "source": [
    "Let's begin by importing the libraries you will use for these data wrangling tasks.\n"
   ]
  },
  {
   "cell_type": "code",
   "execution_count": 3,
   "metadata": {
    "tags": []
   },
   "outputs": [
    {
     "name": "stderr",
     "output_type": "stream",
     "text": [
      "Loading required package: tidyverse\n",
      "── Attaching packages ─────────────────────────────────────── tidyverse 1.3.0 ──\n",
      "✔ ggplot2 3.3.0     ✔ purrr   0.3.4\n",
      "✔ tibble  3.0.1     ✔ dplyr   0.8.5\n",
      "✔ tidyr   1.0.2     ✔ stringr 1.4.0\n",
      "✔ readr   1.3.1     ✔ forcats 0.5.0\n",
      "── Conflicts ────────────────────────────────────────── tidyverse_conflicts() ──\n",
      "✖ dplyr::filter() masks stats::filter()\n",
      "✖ dplyr::lag()    masks stats::lag()\n"
     ]
    }
   ],
   "source": [
    "# Check whether you need to install the `tidyverse` library\n",
    "require(\"tidyverse\")\n",
    "library(tidyverse)"
   ]
  },
  {
   "cell_type": "markdown",
   "metadata": {},
   "source": [
    "## TASK: Standardize column names for all collected datasets \n"
   ]
  },
  {
   "cell_type": "markdown",
   "metadata": {},
   "source": [
    "In the previous data collection labs, you collected four datasets in csv format:\n",
    "- `raw_bike_sharing_systems.csv`:  A list of active bike-sharing systems across the world\n",
    "- `raw_cities_weather_forecast.csv`: 5-day weather forecasts for a list of cities, from OpenWeather API\n",
    "- `raw_worldcities.csv`: A list of major cities' info (such as name, latitude and longitude) across the world\n",
    "- `raw_seoul_bike_sharing.csv`: Weather information (Temperature, Humidity, Windspeed, Visibility, Dewpoint, Solar radiation, Snowfall, Rainfall), the number of bikes rented per hour, and date information, from Seoul bike-sharing systems\n"
   ]
  },
  {
   "cell_type": "markdown",
   "metadata": {},
   "source": [
    "*Optional:* If you had some difficulties finishing the data collection labs, you may download the datasets directly from the following URLs:\n"
   ]
  },
  {
   "cell_type": "code",
   "execution_count": null,
   "metadata": {},
   "outputs": [],
   "source": [
    "# Download raw_bike_sharing_systems.csv\n",
    "url <- \"https://cf-courses-data.s3.us.cloud-object-storage.appdomain.cloud/IBMDeveloperSkillsNetwork-RP0321EN-SkillsNetwork/labs/datasets/raw_bike_sharing_systems.csv\"\n",
    "download.file(url, destfile = \"raw_bike_sharing_systems.csv\")\n",
    "\n",
    "# Download raw_cities_weather_forecast.csv\n",
    "url <- \"https://cf-courses-data.s3.us.cloud-object-storage.appdomain.cloud/IBMDeveloperSkillsNetwork-RP0321EN-SkillsNetwork/labs/datasets/raw_cities_weather_forecast.csv\"\n",
    "download.file(url, destfile = \"raw_cities_weather_forecast.csv\")\n",
    "\n",
    "# Download raw_worldcities.csv\n",
    "url <- \"https://cf-courses-data.s3.us.cloud-object-storage.appdomain.cloud/IBMDeveloperSkillsNetwork-RP0321EN-SkillsNetwork/labs/datasets/raw_worldcities.csv\"\n",
    "download.file(url, destfile = \"raw_worldcities.csv\")\n",
    "\n",
    "# Download raw_seoul_bike_sharing.csv\n",
    "url <- \"https://cf-courses-data.s3.us.cloud-object-storage.appdomain.cloud/IBMDeveloperSkillsNetwork-RP0321EN-SkillsNetwork/labs/datasets/raw_seoul_bike_sharing.csv\"\n",
    "download.file(url, destfile = \"raw_seoul_bike_sharing.csv\")"
   ]
  },
  {
   "cell_type": "markdown",
   "metadata": {},
   "source": [
    "To improve dataset readbility by both human and computer systems, we first need to standardize the column names of the datasets above using the following naming convention:\n",
    " - Column names need to be UPPERCASE\n",
    " - The word separator needs to be an underscore, such as in `COLUMN_NAME`\n"
   ]
  },
  {
   "cell_type": "markdown",
   "metadata": {},
   "source": [
    "You can use the following dataset list and the `names()` function to get and set each of their column names, and convert them according to our defined naming convention.\n"
   ]
  },
  {
   "cell_type": "code",
   "execution_count": 4,
   "metadata": {
    "tags": []
   },
   "outputs": [],
   "source": [
    "dataset_list <- c('raw_bike_sharing_systems.csv', 'raw_seoul_bike_sharing.csv', 'raw_cities_weather_forecast.csv', 'raw_worldcities.csv')"
   ]
  },
  {
   "cell_type": "markdown",
   "metadata": {},
   "source": [
    "_TODO_: Write a `for` loop to iterate over the above datasets and convert their column names \n"
   ]
  },
  {
   "cell_type": "code",
   "execution_count": 8,
   "metadata": {
    "tags": []
   },
   "outputs": [],
   "source": [
    "for (dataset_name in dataset_list){\n",
    "    # Read dataset\n",
    "    dataset <- read.csv(dataset_name)\n",
    "    # Standardized its columns:\n",
    "    # Convert all column names to uppercase\n",
    "    colnames(dataset) <- toupper(colnames(dataset))\n",
    "    # Replace any white space separators by underscores, using the str_replace_all function\n",
    "    colnames(dataset) <- str_replace_all(colnames(dataset), \" \", \"_\")\n",
    "    # Save the dataset \n",
    "    write.csv(dataset, dataset_name, row.names=FALSE)\n",
    "}"
   ]
  },
  {
   "cell_type": "markdown",
   "metadata": {},
   "source": [
    "_TODO_: Read the resulting datasets back and check whether their column names follow the naming convention\n"
   ]
  },
  {
   "cell_type": "code",
   "execution_count": 6,
   "metadata": {
    "tags": []
   },
   "outputs": [
    {
     "name": "stdout",
     "output_type": "stream",
     "text": [
      "          COUNTRY               CITY                  NAME    \n",
      " Germany      : 62   Germany      : 20   nextbike       : 27  \n",
      " China        : 61   Bangkok      :  4   Verejný bicykel: 14  \n",
      " United States: 61   Bratislava   :  4   Rekola         : 12  \n",
      " France       : 38   Italy        :  4   YouBike        : 12  \n",
      " Finland      : 26   United States:  3   Kaakau         : 11  \n",
      " Portugal     : 25   Australia    :  2   (Other)        :429  \n",
      " (Other)      :281   (Other)      :517   NA's           : 49  \n",
      "              SYSTEM                   OPERATOR      LAUNCHED  \n",
      " 3 Gen. nextbike : 60   JCDecaux           : 16   2010   : 30  \n",
      " 3 Gen.          : 34   Antik Telecom      : 14   2011   : 21  \n",
      " 3 Gen. Cyclocity: 26   Kaakau             : 12   2013   : 18  \n",
      " 3 Gen. B-Cycle  : 25   Motivate           : 10   2009   : 14  \n",
      " 4 Gen.          : 24   NTA & An Rothar Nua:  3   2019   : 13  \n",
      " (Other)         :239   (Other)            : 68   (Other):416  \n",
      " NA's            :146   NA's               :431   NA's   : 42  \n",
      "                DISCONTINUED     STATIONS      BICYCLES  \n",
      " 2016                 :  3   dockless: 29   100    : 19  \n",
      " Discontinued         :  2   4       : 17   500    : 18  \n",
      " July 2018            :  2   3       : 15   60     : 16  \n",
      " 1 May 2019           :  1   5       : 15   200    : 15  \n",
      " 13 November 2022[342]:  1   10      : 14   300    : 15  \n",
      " (Other)              : 25   (Other) :382   (Other):375  \n",
      " NA's                 :520   NA's    : 82   NA's   : 96  \n",
      "          DAILY_RIDERSHIP\n",
      " 105000 (2017[126]:  1   \n",
      " 12600            :  1   \n",
      " 13000            :  1   \n",
      " 1400             :  1   \n",
      " 14887            :  1   \n",
      " (Other)          : 19   \n",
      " NA's             :530   \n",
      "         DATE      RENTED_BIKE_COUNT      HOUR        TEMPERATURE    \n",
      " 01/01/2018:  24   Min.   :   2.0    Min.   : 0.00   Min.   :-17.80  \n",
      " 01/02/2018:  24   1st Qu.: 214.0    1st Qu.: 5.75   1st Qu.:  3.40  \n",
      " 01/03/2018:  24   Median : 542.0    Median :11.50   Median : 13.70  \n",
      " 01/04/2018:  24   Mean   : 729.2    Mean   :11.50   Mean   : 12.87  \n",
      " 01/05/2018:  24   3rd Qu.:1084.0    3rd Qu.:17.25   3rd Qu.: 22.50  \n",
      " 01/06/2018:  24   Max.   :3556.0    Max.   :23.00   Max.   : 39.40  \n",
      " (Other)   :8616   NA's   :295                       NA's   :11      \n",
      "    HUMIDITY       WIND_SPEED      VISIBILITY   DEW_POINT_TEMPERATURE\n",
      " Min.   : 0.00   Min.   :0.000   Min.   :  27   Min.   :-30.600      \n",
      " 1st Qu.:42.00   1st Qu.:0.900   1st Qu.: 940   1st Qu.: -4.700      \n",
      " Median :57.00   Median :1.500   Median :1698   Median :  5.100      \n",
      " Mean   :58.23   Mean   :1.725   Mean   :1437   Mean   :  4.074      \n",
      " 3rd Qu.:74.00   3rd Qu.:2.300   3rd Qu.:2000   3rd Qu.: 14.800      \n",
      " Max.   :98.00   Max.   :7.400   Max.   :2000   Max.   : 27.200      \n",
      "                                                                     \n",
      " SOLAR_RADIATION     RAINFALL          SNOWFALL         SEASONS    \n",
      " Min.   :0.0000   Min.   : 0.0000   Min.   :0.00000   Autumn:2184  \n",
      " 1st Qu.:0.0000   1st Qu.: 0.0000   1st Qu.:0.00000   Spring:2208  \n",
      " Median :0.0100   Median : 0.0000   Median :0.00000   Summer:2208  \n",
      " Mean   :0.5691   Mean   : 0.1487   Mean   :0.07507   Winter:2160  \n",
      " 3rd Qu.:0.9300   3rd Qu.: 0.0000   3rd Qu.:0.00000                \n",
      " Max.   :3.5200   Max.   :35.0000   Max.   :8.80000                \n",
      "                                                                   \n",
      "       HOLIDAY     FUNCTIONING_DAY\n",
      " Holiday   : 432   No : 295       \n",
      " No Holiday:8328   Yes:8465       \n",
      "                                  \n",
      "                                  \n",
      "                                  \n",
      "                                  \n",
      "                                  \n",
      "               CITY             DATE           TIME      TEMPERATURE   \n",
      " Paris           : 80   2023-06-19:400   12:00:00:400   Min.   : 6.59  \n",
      " Seoul           :160                                   1st Qu.:20.59  \n",
      " Suzhou          : 40                                   Median :20.59  \n",
      " Washington, D.C.:120                                   Mean   :20.20  \n",
      "                                                        3rd Qu.:26.48  \n",
      "                                                        Max.   :27.00  \n",
      "    HUMIDITY       PRESSURE      WIND_SPEED   \n",
      " Min.   :45.0   Min.   :1004   Min.   :1.760  \n",
      " 1st Qu.:45.0   1st Qu.:1004   1st Qu.:2.020  \n",
      " Median :79.0   Median :1008   Median :2.110  \n",
      " Mean   :67.1   Mean   :1007   Mean   :3.193  \n",
      " 3rd Qu.:83.0   3rd Qu.:1010   3rd Qu.:4.950  \n",
      " Max.   :83.0   Max.   :1010   Max.   :4.950  \n",
      "          CITY             CITY_ASCII         LAT              LNG           \n",
      " Clinton    :   14   Clinton    :   14   Min.   :-54.93   Min.   :-179.5900  \n",
      " Richmond   :   14   Richmond   :   14   1st Qu.: 27.92   1st Qu.: -78.7794  \n",
      " Franklin   :   13   Franklin   :   13   Median : 40.22   Median :  -0.7689  \n",
      " Springfield:   13   Springfield:   13   Mean   : 33.10   Mean   : -11.3639  \n",
      " Greenville :   12   Greenville :   12   3rd Qu.: 47.99   3rd Qu.:  29.6833  \n",
      " Hamilton   :   11   Hamilton   :   11   Max.   : 81.72   Max.   : 179.3667  \n",
      " (Other)    :26492   (Other)    :26492                                       \n",
      "           COUNTRY           ISO2            ISO3              ADMIN_NAME   \n",
      " United States : 7768   US     : 7768   USA    : 7768   California  :  650  \n",
      " United Kingdom: 1798   GB     : 1798   GBR    : 1798   Pennsylvania:  617  \n",
      " Germany       : 1606   DE     : 1606   DEU    : 1606   New York    :  594  \n",
      " Russia        : 1161   RU     : 1161   RUS    : 1161   Florida     :  472  \n",
      " Japan         :  827   JP     :  827   JPN    :  827   São Paulo   :  430  \n",
      " Brazil        :  788   (Other):13378   BRA    :  788   (Other)     :23730  \n",
      " (Other)       :12621   NA's   :   31   (Other):12621   NA's        :   76  \n",
      "    CAPITAL        POPULATION             ID           \n",
      " admin  : 3664   Min.   :       0   Min.   :1.004e+09  \n",
      " minor  : 3754   1st Qu.:    9246   1st Qu.:1.277e+09  \n",
      " primary:  208   Median :   20080   Median :1.643e+09  \n",
      " NA's   :18943   Mean   :  162346   Mean   :1.556e+09  \n",
      "                 3rd Qu.:   59369   3rd Qu.:1.840e+09  \n",
      "                 Max.   :37977000   Max.   :1.934e+09  \n",
      "                 NA's   :973                           \n"
     ]
    }
   ],
   "source": [
    "for (dataset_name in dataset_list) {\n",
    "  # Read the data from the file\n",
    "  data <- read.csv(dataset_name)\n",
    "  \n",
    "  # Print a summary for the dataset\n",
    "  print(summary(data))\n",
    "}"
   ]
  },
  {
   "cell_type": "markdown",
   "metadata": {},
   "source": [
    "## Process the web-scraped bike sharing system dataset \n"
   ]
  },
  {
   "cell_type": "markdown",
   "metadata": {},
   "source": [
    "By now we have standardized all column names. Next, we will focus on cleaning up the values in the web-scraped bike sharing systems dataset.\n"
   ]
  },
  {
   "cell_type": "code",
   "execution_count": 9,
   "metadata": {
    "tags": []
   },
   "outputs": [],
   "source": [
    "# First load the dataset\n",
    "bike_sharing_df <- read.csv(\"raw_bike_sharing_systems.csv\")"
   ]
  },
  {
   "cell_type": "code",
   "execution_count": 15,
   "metadata": {
    "tags": []
   },
   "outputs": [
    {
     "data": {
      "text/html": [
       "<table>\n",
       "<caption>A data.frame: 6 × 10</caption>\n",
       "<thead>\n",
       "\t<tr><th></th><th scope=col>COUNTRY</th><th scope=col>CITY</th><th scope=col>NAME</th><th scope=col>SYSTEM</th><th scope=col>OPERATOR</th><th scope=col>LAUNCHED</th><th scope=col>DISCONTINUED</th><th scope=col>STATIONS</th><th scope=col>BICYCLES</th><th scope=col>DAILY_RIDERSHIP</th></tr>\n",
       "\t<tr><th></th><th scope=col>&lt;fct&gt;</th><th scope=col>&lt;fct&gt;</th><th scope=col>&lt;fct&gt;</th><th scope=col>&lt;fct&gt;</th><th scope=col>&lt;fct&gt;</th><th scope=col>&lt;fct&gt;</th><th scope=col>&lt;fct&gt;</th><th scope=col>&lt;fct&gt;</th><th scope=col>&lt;fct&gt;</th><th scope=col>&lt;fct&gt;</th></tr>\n",
       "</thead>\n",
       "<tbody>\n",
       "\t<tr><th scope=row>1</th><td>Albania  </td><td>Tirana[5]            </td><td>Ecovolis            </td><td>NA               </td><td>NA                          </td><td>March 2011      </td><td>NA                  </td><td>8  </td><td>200 </td><td>NA   </td></tr>\n",
       "\t<tr><th scope=row>2</th><td>Argentina</td><td>Buenos Aires[6][7]   </td><td>Ecobici             </td><td>Serttel Brasil[8]</td><td>Bike In Baires Consortium[9]</td><td>2010            </td><td>NA                  </td><td>400</td><td>4000</td><td>21917</td></tr>\n",
       "\t<tr><th scope=row>3</th><td>Argentina</td><td>Mendoza[10]          </td><td>Metrobici           </td><td>NA               </td><td>NA                          </td><td>2014            </td><td>NA                  </td><td>2  </td><td>40  </td><td>NA   </td></tr>\n",
       "\t<tr><th scope=row>4</th><td>Argentina</td><td>Rosario              </td><td>Mi Bici Tu Bici[11] </td><td>NA               </td><td>NA                          </td><td>2 December 2015 </td><td>NA                  </td><td>47 </td><td>480 </td><td>NA   </td></tr>\n",
       "\t<tr><th scope=row>5</th><td>Argentina</td><td>San Lorenzo, Santa Fe</td><td>Biciudad            </td><td>Biciudad         </td><td>NA                          </td><td>27 November 2016</td><td>NA                  </td><td>8  </td><td>80  </td><td>NA   </td></tr>\n",
       "\t<tr><th scope=row>6</th><td>Australia</td><td><span style=white-space:pre-wrap>Melbourne[12]        </span></td><td>Melbourne Bike Share</td><td><span style=white-space:pre-wrap>PBSC &amp; 8D        </span></td><td><span style=white-space:pre-wrap>Motivate                    </span></td><td><span style=white-space:pre-wrap>June 2010       </span></td><td>30 November 2019[13]</td><td>53 </td><td>676 </td><td><span style=white-space:pre-wrap>NA   </span></td></tr>\n",
       "</tbody>\n",
       "</table>\n"
      ],
      "text/latex": [
       "A data.frame: 6 × 10\n",
       "\\begin{tabular}{r|llllllllll}\n",
       "  & COUNTRY & CITY & NAME & SYSTEM & OPERATOR & LAUNCHED & DISCONTINUED & STATIONS & BICYCLES & DAILY\\_RIDERSHIP\\\\\n",
       "  & <fct> & <fct> & <fct> & <fct> & <fct> & <fct> & <fct> & <fct> & <fct> & <fct>\\\\\n",
       "\\hline\n",
       "\t1 & Albania   & Tirana{[}5{]}             & Ecovolis             & NA                & NA                           & March 2011       & NA                   & 8   & 200  & NA   \\\\\n",
       "\t2 & Argentina & Buenos Aires{[}6{]}{[}7{]}    & Ecobici              & Serttel Brasil{[}8{]} & Bike In Baires Consortium{[}9{]} & 2010             & NA                   & 400 & 4000 & 21917\\\\\n",
       "\t3 & Argentina & Mendoza{[}10{]}           & Metrobici            & NA                & NA                           & 2014             & NA                   & 2   & 40   & NA   \\\\\n",
       "\t4 & Argentina & Rosario               & Mi Bici Tu Bici{[}11{]}  & NA                & NA                           & 2 December 2015  & NA                   & 47  & 480  & NA   \\\\\n",
       "\t5 & Argentina & San Lorenzo, Santa Fe & Biciudad             & Biciudad          & NA                           & 27 November 2016 & NA                   & 8   & 80   & NA   \\\\\n",
       "\t6 & Australia & Melbourne{[}12{]}         & Melbourne Bike Share & PBSC \\& 8D         & Motivate                     & June 2010        & 30 November 2019{[}13{]} & 53  & 676  & NA   \\\\\n",
       "\\end{tabular}\n"
      ],
      "text/markdown": [
       "\n",
       "A data.frame: 6 × 10\n",
       "\n",
       "| <!--/--> | COUNTRY &lt;fct&gt; | CITY &lt;fct&gt; | NAME &lt;fct&gt; | SYSTEM &lt;fct&gt; | OPERATOR &lt;fct&gt; | LAUNCHED &lt;fct&gt; | DISCONTINUED &lt;fct&gt; | STATIONS &lt;fct&gt; | BICYCLES &lt;fct&gt; | DAILY_RIDERSHIP &lt;fct&gt; |\n",
       "|---|---|---|---|---|---|---|---|---|---|---|\n",
       "| 1 | Albania   | Tirana[5]             | Ecovolis             | NA                | NA                           | March 2011       | NA                   | 8   | 200  | NA    |\n",
       "| 2 | Argentina | Buenos Aires[6][7]    | Ecobici              | Serttel Brasil[8] | Bike In Baires Consortium[9] | 2010             | NA                   | 400 | 4000 | 21917 |\n",
       "| 3 | Argentina | Mendoza[10]           | Metrobici            | NA                | NA                           | 2014             | NA                   | 2   | 40   | NA    |\n",
       "| 4 | Argentina | Rosario               | Mi Bici Tu Bici[11]  | NA                | NA                           | 2 December 2015  | NA                   | 47  | 480  | NA    |\n",
       "| 5 | Argentina | San Lorenzo, Santa Fe | Biciudad             | Biciudad          | NA                           | 27 November 2016 | NA                   | 8   | 80   | NA    |\n",
       "| 6 | Australia | Melbourne[12]         | Melbourne Bike Share | PBSC &amp; 8D         | Motivate                     | June 2010        | 30 November 2019[13] | 53  | 676  | NA    |\n",
       "\n"
      ],
      "text/plain": [
       "  COUNTRY   CITY                  NAME                 SYSTEM           \n",
       "1 Albania   Tirana[5]             Ecovolis             NA               \n",
       "2 Argentina Buenos Aires[6][7]    Ecobici              Serttel Brasil[8]\n",
       "3 Argentina Mendoza[10]           Metrobici            NA               \n",
       "4 Argentina Rosario               Mi Bici Tu Bici[11]  NA               \n",
       "5 Argentina San Lorenzo, Santa Fe Biciudad             Biciudad         \n",
       "6 Australia Melbourne[12]         Melbourne Bike Share PBSC & 8D        \n",
       "  OPERATOR                     LAUNCHED         DISCONTINUED         STATIONS\n",
       "1 NA                           March 2011       NA                   8       \n",
       "2 Bike In Baires Consortium[9] 2010             NA                   400     \n",
       "3 NA                           2014             NA                   2       \n",
       "4 NA                           2 December 2015  NA                   47      \n",
       "5 NA                           27 November 2016 NA                   8       \n",
       "6 Motivate                     June 2010        30 November 2019[13] 53      \n",
       "  BICYCLES DAILY_RIDERSHIP\n",
       "1 200      NA             \n",
       "2 4000     21917          \n",
       "3 40       NA             \n",
       "4 480      NA             \n",
       "5 80       NA             \n",
       "6 676      NA             "
      ]
     },
     "metadata": {},
     "output_type": "display_data"
    }
   ],
   "source": [
    "# Print its head\n",
    "head(bike_sharing_df)"
   ]
  },
  {
   "cell_type": "markdown",
   "metadata": {},
   "source": [
    "Even from the first few rows, you can see there is plenty of undesireable embedded textual content, such as the reference link included in `Melbourne[12]`.\n"
   ]
  },
  {
   "cell_type": "markdown",
   "metadata": {},
   "source": [
    "In this project, let's only focus on processing the following revelant columns (feel free to process the other columns for more practice):\n",
    " - `COUNTRY`: Country name \n",
    " - `CITY`: City name\n",
    " - `SYSTEM`: Bike-sharing system name\n",
    " - `BICYCLES`: Total number of bikes in the system\n"
   ]
  },
  {
   "cell_type": "code",
   "execution_count": 16,
   "metadata": {
    "tags": []
   },
   "outputs": [],
   "source": [
    "# Select the four columns\n",
    "sub_bike_sharing_df <- bike_sharing_df %>% select(COUNTRY, CITY, SYSTEM, BICYCLES)"
   ]
  },
  {
   "cell_type": "markdown",
   "metadata": {},
   "source": [
    "Let's see the types of the selected columns\n"
   ]
  },
  {
   "cell_type": "code",
   "execution_count": 17,
   "metadata": {
    "tags": []
   },
   "outputs": [
    {
     "data": {
      "text/html": [
       "<table>\n",
       "<caption>A data.frame: 4 × 2</caption>\n",
       "<thead>\n",
       "\t<tr><th scope=col>variable</th><th scope=col>class</th></tr>\n",
       "\t<tr><th scope=col>&lt;chr&gt;</th><th scope=col>&lt;chr&gt;</th></tr>\n",
       "</thead>\n",
       "<tbody>\n",
       "\t<tr><td>COUNTRY </td><td>factor</td></tr>\n",
       "\t<tr><td>CITY    </td><td>factor</td></tr>\n",
       "\t<tr><td>SYSTEM  </td><td>factor</td></tr>\n",
       "\t<tr><td>BICYCLES</td><td>factor</td></tr>\n",
       "</tbody>\n",
       "</table>\n"
      ],
      "text/latex": [
       "A data.frame: 4 × 2\n",
       "\\begin{tabular}{ll}\n",
       " variable & class\\\\\n",
       " <chr> & <chr>\\\\\n",
       "\\hline\n",
       "\t COUNTRY  & factor\\\\\n",
       "\t CITY     & factor\\\\\n",
       "\t SYSTEM   & factor\\\\\n",
       "\t BICYCLES & factor\\\\\n",
       "\\end{tabular}\n"
      ],
      "text/markdown": [
       "\n",
       "A data.frame: 4 × 2\n",
       "\n",
       "| variable &lt;chr&gt; | class &lt;chr&gt; |\n",
       "|---|---|\n",
       "| COUNTRY  | factor |\n",
       "| CITY     | factor |\n",
       "| SYSTEM   | factor |\n",
       "| BICYCLES | factor |\n",
       "\n"
      ],
      "text/plain": [
       "  variable class \n",
       "1 COUNTRY  factor\n",
       "2 CITY     factor\n",
       "3 SYSTEM   factor\n",
       "4 BICYCLES factor"
      ]
     },
     "metadata": {},
     "output_type": "display_data"
    }
   ],
   "source": [
    "sub_bike_sharing_df %>% \n",
    "    summarize_all(class) %>%\n",
    "    gather(variable, class)"
   ]
  },
  {
   "cell_type": "markdown",
   "metadata": {},
   "source": [
    "They are all interpreted as character columns, but we expect the `BICYCLES` column to be of numeric type. Let's see why it wasn't loaded as a numeric column - possibly some entries contain characters. Let's create a simple function called `find_character` to check that.\n"
   ]
  },
  {
   "cell_type": "code",
   "execution_count": 18,
   "metadata": {
    "tags": []
   },
   "outputs": [],
   "source": [
    "# grepl searches a string for non-digital characters, and returns TRUE or FALSE\n",
    "# if it finds any non-digital characters, then the bicyle column is not purely numeric\n",
    "find_character <- function(strings) grepl(\"[^0-9]\", strings)"
   ]
  },
  {
   "cell_type": "markdown",
   "metadata": {},
   "source": [
    "Let's try to find any elements in the `Bicycles` column containing non-numeric characters.\n"
   ]
  },
  {
   "cell_type": "code",
   "execution_count": 19,
   "metadata": {
    "tags": []
   },
   "outputs": [
    {
     "data": {
      "text/html": [
       "<table>\n",
       "<caption>A data.frame: 10 × 1</caption>\n",
       "<thead>\n",
       "\t<tr><th scope=col>BICYCLES</th></tr>\n",
       "\t<tr><th scope=col>&lt;fct&gt;</th></tr>\n",
       "</thead>\n",
       "<tbody>\n",
       "\t<tr><td>1790 (2019)[21]                    </td></tr>\n",
       "\t<tr><td>4200 (2021)                        </td></tr>\n",
       "\t<tr><td>4115[25]                           </td></tr>\n",
       "\t<tr><td>7270 (regular)  2395 (electric)[38]</td></tr>\n",
       "\t<tr><td>310[65]                            </td></tr>\n",
       "\t<tr><td>500[75]                            </td></tr>\n",
       "\t<tr><td>[78]                               </td></tr>\n",
       "\t<tr><td>180[79]                            </td></tr>\n",
       "\t<tr><td>600[82]                            </td></tr>\n",
       "\t<tr><td>initially 800 (later 2500)         </td></tr>\n",
       "</tbody>\n",
       "</table>\n"
      ],
      "text/latex": [
       "A data.frame: 10 × 1\n",
       "\\begin{tabular}{l}\n",
       " BICYCLES\\\\\n",
       " <fct>\\\\\n",
       "\\hline\n",
       "\t 1790 (2019){[}21{]}                    \\\\\n",
       "\t 4200 (2021)                        \\\\\n",
       "\t 4115{[}25{]}                           \\\\\n",
       "\t 7270 (regular)  2395 (electric){[}38{]}\\\\\n",
       "\t 310{[}65{]}                            \\\\\n",
       "\t 500{[}75{]}                            \\\\\n",
       "\t {[}78{]}                               \\\\\n",
       "\t 180{[}79{]}                            \\\\\n",
       "\t 600{[}82{]}                            \\\\\n",
       "\t initially 800 (later 2500)         \\\\\n",
       "\\end{tabular}\n"
      ],
      "text/markdown": [
       "\n",
       "A data.frame: 10 × 1\n",
       "\n",
       "| BICYCLES &lt;fct&gt; |\n",
       "|---|\n",
       "| 1790 (2019)[21]                     |\n",
       "| 4200 (2021)                         |\n",
       "| 4115[25]                            |\n",
       "| 7270 (regular)  2395 (electric)[38] |\n",
       "| 310[65]                             |\n",
       "| 500[75]                             |\n",
       "| [78]                                |\n",
       "| 180[79]                             |\n",
       "| 600[82]                             |\n",
       "| initially 800 (later 2500)          |\n",
       "\n"
      ],
      "text/plain": [
       "   BICYCLES                           \n",
       "1  1790 (2019)[21]                    \n",
       "2  4200 (2021)                        \n",
       "3  4115[25]                           \n",
       "4  7270 (regular)  2395 (electric)[38]\n",
       "5  310[65]                            \n",
       "6  500[75]                            \n",
       "7  [78]                               \n",
       "8  180[79]                            \n",
       "9  600[82]                            \n",
       "10 initially 800 (later 2500)         "
      ]
     },
     "metadata": {},
     "output_type": "display_data"
    }
   ],
   "source": [
    "sub_bike_sharing_df %>% \n",
    "    select(BICYCLES) %>% \n",
    "    filter(find_character(BICYCLES)) %>%\n",
    "    slice(0:10)"
   ]
  },
  {
   "cell_type": "markdown",
   "metadata": {},
   "source": [
    "As you can see, many rows have non-numeric characters, such as `32 (including 6 rollers) [162]` and `1000[253]`. This is actually very common for a table scraped from Wiki when no input validation is enforced. \n",
    "\n",
    "Later, you will use regular expressions to clean them up.\n"
   ]
  },
  {
   "cell_type": "markdown",
   "metadata": {},
   "source": [
    "Next, let's take a look at the other columns, namely `COUNTRY`, `CITY`, and `SYSTEM`, to see if they contain any undesired reference links, such as in `Melbourne[12]`.\n"
   ]
  },
  {
   "cell_type": "code",
   "execution_count": 20,
   "metadata": {
    "tags": []
   },
   "outputs": [],
   "source": [
    "# Define a 'reference link' character class, \n",
    "# `[A-z0-9]` means at least one character \n",
    "# `\\\\[` and `\\\\]` means the character is wrapped by [], such as for [12] or [abc]\n",
    "ref_pattern <- \"\\\\[[A-z0-9]+\\\\]\"\n",
    "find_reference_pattern <- function(strings) grepl(ref_pattern, strings)"
   ]
  },
  {
   "cell_type": "code",
   "execution_count": 21,
   "metadata": {
    "tags": []
   },
   "outputs": [
    {
     "data": {
      "text/html": [
       "<table>\n",
       "<caption>A data.frame: 0 × 1</caption>\n",
       "<thead>\n",
       "\t<tr><th scope=col>COUNTRY</th></tr>\n",
       "\t<tr><th scope=col>&lt;fct&gt;</th></tr>\n",
       "</thead>\n",
       "<tbody>\n",
       "</tbody>\n",
       "</table>\n"
      ],
      "text/latex": [
       "A data.frame: 0 × 1\n",
       "\\begin{tabular}{l}\n",
       " COUNTRY\\\\\n",
       " <fct>\\\\\n",
       "\\hline\n",
       "\\end{tabular}\n"
      ],
      "text/markdown": [
       "\n",
       "A data.frame: 0 × 1\n",
       "\n",
       "| COUNTRY &lt;fct&gt; |\n",
       "|---|\n",
       "\n"
      ],
      "text/plain": [
       "     COUNTRY"
      ]
     },
     "metadata": {},
     "output_type": "display_data"
    }
   ],
   "source": [
    "# Check whether the COUNTRY column has any reference links\n",
    "sub_bike_sharing_df %>% \n",
    "    select(COUNTRY) %>% \n",
    "    filter(find_reference_pattern(COUNTRY)) %>%\n",
    "    slice(0:10)"
   ]
  },
  {
   "cell_type": "markdown",
   "metadata": {},
   "source": [
    "Ok, looks like the `COUNTRY` column is clean. Let's check the `CITY` column.\n"
   ]
  },
  {
   "cell_type": "code",
   "execution_count": 22,
   "metadata": {
    "tags": []
   },
   "outputs": [
    {
     "data": {
      "text/html": [
       "<table>\n",
       "<caption>A data.frame: 10 × 1</caption>\n",
       "<thead>\n",
       "\t<tr><th scope=col>CITY</th></tr>\n",
       "\t<tr><th scope=col>&lt;fct&gt;</th></tr>\n",
       "</thead>\n",
       "<tbody>\n",
       "\t<tr><td>Tirana[5]              </td></tr>\n",
       "\t<tr><td>Buenos Aires[6][7]     </td></tr>\n",
       "\t<tr><td>Mendoza[10]            </td></tr>\n",
       "\t<tr><td>Melbourne[12]          </td></tr>\n",
       "\t<tr><td>Melbourne[12]          </td></tr>\n",
       "\t<tr><td>Brisbane[14][15]       </td></tr>\n",
       "\t<tr><td>Lower Austria[16]      </td></tr>\n",
       "\t<tr><td>Different locations[19]</td></tr>\n",
       "\t<tr><td>Brussels[24]           </td></tr>\n",
       "\t<tr><td>Namur[26]              </td></tr>\n",
       "</tbody>\n",
       "</table>\n"
      ],
      "text/latex": [
       "A data.frame: 10 × 1\n",
       "\\begin{tabular}{l}\n",
       " CITY\\\\\n",
       " <fct>\\\\\n",
       "\\hline\n",
       "\t Tirana{[}5{]}              \\\\\n",
       "\t Buenos Aires{[}6{]}{[}7{]}     \\\\\n",
       "\t Mendoza{[}10{]}            \\\\\n",
       "\t Melbourne{[}12{]}          \\\\\n",
       "\t Melbourne{[}12{]}          \\\\\n",
       "\t Brisbane{[}14{]}{[}15{]}       \\\\\n",
       "\t Lower Austria{[}16{]}      \\\\\n",
       "\t Different locations{[}19{]}\\\\\n",
       "\t Brussels{[}24{]}           \\\\\n",
       "\t Namur{[}26{]}              \\\\\n",
       "\\end{tabular}\n"
      ],
      "text/markdown": [
       "\n",
       "A data.frame: 10 × 1\n",
       "\n",
       "| CITY &lt;fct&gt; |\n",
       "|---|\n",
       "| Tirana[5]               |\n",
       "| Buenos Aires[6][7]      |\n",
       "| Mendoza[10]             |\n",
       "| Melbourne[12]           |\n",
       "| Melbourne[12]           |\n",
       "| Brisbane[14][15]        |\n",
       "| Lower Austria[16]       |\n",
       "| Different locations[19] |\n",
       "| Brussels[24]            |\n",
       "| Namur[26]               |\n",
       "\n"
      ],
      "text/plain": [
       "   CITY                   \n",
       "1  Tirana[5]              \n",
       "2  Buenos Aires[6][7]     \n",
       "3  Mendoza[10]            \n",
       "4  Melbourne[12]          \n",
       "5  Melbourne[12]          \n",
       "6  Brisbane[14][15]       \n",
       "7  Lower Austria[16]      \n",
       "8  Different locations[19]\n",
       "9  Brussels[24]           \n",
       "10 Namur[26]              "
      ]
     },
     "metadata": {},
     "output_type": "display_data"
    }
   ],
   "source": [
    "# Check whether the CITY column has any reference links\n",
    "sub_bike_sharing_df %>% \n",
    "    select(CITY) %>% \n",
    "    filter(find_reference_pattern(CITY)) %>%\n",
    "    slice(0:10)"
   ]
  },
  {
   "cell_type": "markdown",
   "metadata": {},
   "source": [
    "Hmm, looks like the `CITY` column has some reference links to be removed. Next, let's check the `SYSTEM` column.\n"
   ]
  },
  {
   "cell_type": "code",
   "execution_count": 23,
   "metadata": {
    "tags": []
   },
   "outputs": [
    {
     "data": {
      "text/html": [
       "<table>\n",
       "<caption>A data.frame: 8 × 1</caption>\n",
       "<thead>\n",
       "\t<tr><th scope=col>SYSTEM</th></tr>\n",
       "\t<tr><th scope=col>&lt;fct&gt;</th></tr>\n",
       "</thead>\n",
       "<tbody>\n",
       "\t<tr><td>Serttel Brasil[8]                </td></tr>\n",
       "\t<tr><td>EasyBike[64]                     </td></tr>\n",
       "\t<tr><td>4 Gen.[72]                       </td></tr>\n",
       "\t<tr><td>3 Gen. SmooveKey[135]            </td></tr>\n",
       "\t<tr><td>3 Gen. Smoove[162][163][164][160]</td></tr>\n",
       "\t<tr><td>3 Gen. Smoove[200]               </td></tr>\n",
       "\t<tr><td>3 Gen. Smoove[202]               </td></tr>\n",
       "\t<tr><td>3 Gen. Smoove[204]               </td></tr>\n",
       "</tbody>\n",
       "</table>\n"
      ],
      "text/latex": [
       "A data.frame: 8 × 1\n",
       "\\begin{tabular}{l}\n",
       " SYSTEM\\\\\n",
       " <fct>\\\\\n",
       "\\hline\n",
       "\t Serttel Brasil{[}8{]}                \\\\\n",
       "\t EasyBike{[}64{]}                     \\\\\n",
       "\t 4 Gen.{[}72{]}                       \\\\\n",
       "\t 3 Gen. SmooveKey{[}135{]}            \\\\\n",
       "\t 3 Gen. Smoove{[}162{]}{[}163{]}{[}164{]}{[}160{]}\\\\\n",
       "\t 3 Gen. Smoove{[}200{]}               \\\\\n",
       "\t 3 Gen. Smoove{[}202{]}               \\\\\n",
       "\t 3 Gen. Smoove{[}204{]}               \\\\\n",
       "\\end{tabular}\n"
      ],
      "text/markdown": [
       "\n",
       "A data.frame: 8 × 1\n",
       "\n",
       "| SYSTEM &lt;fct&gt; |\n",
       "|---|\n",
       "| Serttel Brasil[8]                 |\n",
       "| EasyBike[64]                      |\n",
       "| 4 Gen.[72]                        |\n",
       "| 3 Gen. SmooveKey[135]             |\n",
       "| 3 Gen. Smoove[162][163][164][160] |\n",
       "| 3 Gen. Smoove[200]                |\n",
       "| 3 Gen. Smoove[202]                |\n",
       "| 3 Gen. Smoove[204]                |\n",
       "\n"
      ],
      "text/plain": [
       "  SYSTEM                           \n",
       "1 Serttel Brasil[8]                \n",
       "2 EasyBike[64]                     \n",
       "3 4 Gen.[72]                       \n",
       "4 3 Gen. SmooveKey[135]            \n",
       "5 3 Gen. Smoove[162][163][164][160]\n",
       "6 3 Gen. Smoove[200]               \n",
       "7 3 Gen. Smoove[202]               \n",
       "8 3 Gen. Smoove[204]               "
      ]
     },
     "metadata": {},
     "output_type": "display_data"
    }
   ],
   "source": [
    "# Check whether the System column has any reference links\n",
    "sub_bike_sharing_df %>% \n",
    "    select(SYSTEM) %>% \n",
    "    filter(find_reference_pattern(SYSTEM)) %>%\n",
    "    slice(0:10)"
   ]
  },
  {
   "cell_type": "markdown",
   "metadata": {},
   "source": [
    "So the `SYSTEM` column also has some reference links.\n"
   ]
  },
  {
   "cell_type": "markdown",
   "metadata": {},
   "source": [
    "After some preliminary investigations, we identified that the `CITY` and `SYSTEM` columns have some undesired reference links, and the `BICYCLES` column has both reference links and some \n",
    "textual annotations.\n",
    "\n",
    "Next, you need to use regular expressions to clean up the unexpected reference links and text annotations in numeric values.\n"
   ]
  },
  {
   "cell_type": "markdown",
   "metadata": {},
   "source": [
    "# TASK: Remove undesired reference links using regular expressions\n"
   ]
  },
  {
   "cell_type": "markdown",
   "metadata": {},
   "source": [
    "_TODO:_ Write a custom function using `stringr::str_replace_all` to replace all reference links with an empty character for columns `CITY` and `SYSTEM`\n"
   ]
  },
  {
   "cell_type": "code",
   "execution_count": 36,
   "metadata": {
    "tags": []
   },
   "outputs": [],
   "source": [
    "# remove reference link\n",
    "remove_ref <- function(strings) {\n",
    "  ref_pattern <- \"\\\\[[A-z0-9]+\\\\]\"  # escape [ and ] with \\\\\n",
    "  result <- str_replace_all(strings, ref_pattern, \"\") # replace with an empty string\n",
    "  result <- trimws(result)  # removing leading and trailing white spaces\n",
    "  return(result) # returning the cleaned string\n",
    "}"
   ]
  },
  {
   "cell_type": "markdown",
   "metadata": {},
   "source": [
    "_TODO:_ Use the `dplyr::mutate()` function to apply the `remove_ref` function to the `CITY` and `SYSTEM` columns\n"
   ]
  },
  {
   "cell_type": "code",
   "execution_count": 37,
   "metadata": {
    "tags": []
   },
   "outputs": [],
   "source": [
    "sub_bike_sharing_df <- sub_bike_sharing_df %>%\n",
    "  mutate(CITY = remove_ref(CITY),\n",
    "         SYSTEM = remove_ref(SYSTEM))"
   ]
  },
  {
   "cell_type": "markdown",
   "metadata": {},
   "source": [
    "_TODO:_ Use the following code to check whether all reference links are removed:\n"
   ]
  },
  {
   "cell_type": "code",
   "execution_count": 38,
   "metadata": {
    "tags": []
   },
   "outputs": [
    {
     "data": {
      "text/html": [
       "<table>\n",
       "<caption>A data.frame: 39 × 3</caption>\n",
       "<thead>\n",
       "\t<tr><th scope=col>CITY</th><th scope=col>SYSTEM</th><th scope=col>BICYCLES</th></tr>\n",
       "\t<tr><th scope=col>&lt;chr&gt;</th><th scope=col>&lt;chr&gt;</th><th scope=col>&lt;fct&gt;</th></tr>\n",
       "</thead>\n",
       "<tbody>\n",
       "\t<tr><td>Different locations                            </td><td>Blue-bike                      </td><td>1790 (2019)[21]                    </td></tr>\n",
       "\t<tr><td>Brussels                                       </td><td>3 Gen. Cyclocity               </td><td>4115[25]                           </td></tr>\n",
       "\t<tr><td><span style=white-space:pre-wrap>Montreal                                       </span></td><td><span style=white-space:pre-wrap>PBSC &amp; 8D                      </span></td><td><span style=white-space:pre-wrap>7270 (regular)  2395 (electric)[38]</span></td></tr>\n",
       "\t<tr><td>Limassol, Nicosia District                     </td><td>3 Gen. Smoove                  </td><td>310[65]                            </td></tr>\n",
       "\t<tr><td>Czechia                                        </td><td>NA                             </td><td>500[75]                            </td></tr>\n",
       "\t<tr><td>Prague 7                                       </td><td>4 Gen. Ofo                     </td><td>[78]                               </td></tr>\n",
       "\t<tr><td>Prostějov                                      </td><td>3 Gen. nextbike                </td><td>180[79]                            </td></tr>\n",
       "\t<tr><td>Czechia                                        </td><td>3 Gen. nextbike                </td><td>600[82]                            </td></tr>\n",
       "\t<tr><td>Farsø                                          </td><td>2 Gen                          </td><td>[89]                               </td></tr>\n",
       "\t<tr><td>Kouvola                                        </td><td>Donkey Republic                </td><td>60(regular) 10(electric)(2022)[96] </td></tr>\n",
       "\t<tr><td>Kuopio                                         </td><td>Freebike                       </td><td>350(2022) [97]                     </td></tr>\n",
       "\t<tr><td>Lahti                                          </td><td>Freebike                       </td><td>250 (2022) [98]                    </td></tr>\n",
       "\t<tr><td>Lappeenranta                                   </td><td>Donkey Republic                </td><td>120(2022)[99]                      </td></tr>\n",
       "\t<tr><td>Pori                                           </td><td>Rolanbike                      </td><td>50 (2022) [103]                    </td></tr>\n",
       "\t<tr><td>Raseborg                                       </td><td>Donkey Republic                </td><td>30 (2022) [104]                    </td></tr>\n",
       "\t<tr><td>Riihimäki                                      </td><td>Donkey Republic                </td><td>60 (2022)  [105]                   </td></tr>\n",
       "\t<tr><td>Tampere                                        </td><td>CityBike Global                </td><td>700 (2022)[106]                    </td></tr>\n",
       "\t<tr><td>Turku                                          </td><td>Nextbike                       </td><td>700 (2022) [107]                   </td></tr>\n",
       "\t<tr><td>Varkaus                                        </td><td>Juro                           </td><td>20 (2022) [110]                    </td></tr>\n",
       "\t<tr><td>Batumi                                         </td><td>3 Gen. SmooveKey               </td><td>370[136]                           </td></tr>\n",
       "\t<tr><td><span style=white-space:pre-wrap>Darmstadt                                      </span></td><td><span style=white-space:pre-wrap>3 &amp; 4 Gen. Call a Bike flex    </span></td><td><span style=white-space:pre-wrap>350 [147]                          </span></td></tr>\n",
       "\t<tr><td>Corfu                                          </td><td>3 Gen. Smoove                  </td><td>100[64]                            </td></tr>\n",
       "\t<tr><td>Budapest                                       </td><td>3 Gen.                         </td><td>1526[180]                          </td></tr>\n",
       "\t<tr><td>Győr                                           </td><td>NA                             </td><td>180[182]                           </td></tr>\n",
       "\t<tr><td>Kaposvár                                       </td><td>NA                             </td><td>32 (including 6 rollers)  [183]    </td></tr>\n",
       "\t<tr><td>Milan                                          </td><td>3 Gen. Clear CC                </td><td>5430 (1000 E)[195]                 </td></tr>\n",
       "\t<tr><td>Lithuania                                      </td><td>NA                             </td><td>150 E[207]                         </td></tr>\n",
       "\t<tr><td>Various Locations (especially railway stations)</td><td>OV-Fiets/Nederlandse Spoorwegen</td><td>21700 [210]                        </td></tr>\n",
       "\t<tr><td>Kazan                                          </td><td>3 Gen. Cyclocity               </td><td>120[238]                           </td></tr>\n",
       "\t<tr><td>Bratislava                                     </td><td>NA                             </td><td>400[240]                           </td></tr>\n",
       "\t<tr><td>Bratislava                                     </td><td>NA                             </td><td>80[242]                            </td></tr>\n",
       "\t<tr><td>Košice                                         </td><td>NA                             </td><td>500[246]                           </td></tr>\n",
       "\t<tr><td>Moldava nad Bodvou                             </td><td>NA                             </td><td>25[249]                            </td></tr>\n",
       "\t<tr><td>Žilina                                         </td><td>nextbike                       </td><td>123[263]                           </td></tr>\n",
       "\t<tr><td>Changwon                                       </td><td>NA                             </td><td>2348[272]                          </td></tr>\n",
       "\t<tr><td>Glasgow, Scotland                              </td><td>3 Gen. nextbike                </td><td>400[294]                           </td></tr>\n",
       "\t<tr><td>Greater Manchester, England                    </td><td>NA                             </td><td>1500[296]                          </td></tr>\n",
       "\t<tr><td>Edinburgh, Scotland                            </td><td>Urban Sharing                  </td><td>500[297]                           </td></tr>\n",
       "\t<tr><td>Liverpool, England                             </td><td>NA                             </td><td>1000[298]                          </td></tr>\n",
       "</tbody>\n",
       "</table>\n"
      ],
      "text/latex": [
       "A data.frame: 39 × 3\n",
       "\\begin{tabular}{lll}\n",
       " CITY & SYSTEM & BICYCLES\\\\\n",
       " <chr> & <chr> & <fct>\\\\\n",
       "\\hline\n",
       "\t Different locations                             & Blue-bike                       & 1790 (2019){[}21{]}                    \\\\\n",
       "\t Brussels                                        & 3 Gen. Cyclocity                & 4115{[}25{]}                           \\\\\n",
       "\t Montreal                                        & PBSC \\& 8D                       & 7270 (regular)  2395 (electric){[}38{]}\\\\\n",
       "\t Limassol, Nicosia District                      & 3 Gen. Smoove                   & 310{[}65{]}                            \\\\\n",
       "\t Czechia                                         & NA                              & 500{[}75{]}                            \\\\\n",
       "\t Prague 7                                        & 4 Gen. Ofo                      & {[}78{]}                               \\\\\n",
       "\t Prostějov                                       & 3 Gen. nextbike                 & 180{[}79{]}                            \\\\\n",
       "\t Czechia                                         & 3 Gen. nextbike                 & 600{[}82{]}                            \\\\\n",
       "\t Farsø                                           & 2 Gen                           & {[}89{]}                               \\\\\n",
       "\t Kouvola                                         & Donkey Republic                 & 60(regular) 10(electric)(2022){[}96{]} \\\\\n",
       "\t Kuopio                                          & Freebike                        & 350(2022) {[}97{]}                     \\\\\n",
       "\t Lahti                                           & Freebike                        & 250 (2022) {[}98{]}                    \\\\\n",
       "\t Lappeenranta                                    & Donkey Republic                 & 120(2022){[}99{]}                      \\\\\n",
       "\t Pori                                            & Rolanbike                       & 50 (2022) {[}103{]}                    \\\\\n",
       "\t Raseborg                                        & Donkey Republic                 & 30 (2022) {[}104{]}                    \\\\\n",
       "\t Riihimäki                                       & Donkey Republic                 & 60 (2022)  {[}105{]}                   \\\\\n",
       "\t Tampere                                         & CityBike Global                 & 700 (2022){[}106{]}                    \\\\\n",
       "\t Turku                                           & Nextbike                        & 700 (2022) {[}107{]}                   \\\\\n",
       "\t Varkaus                                         & Juro                            & 20 (2022) {[}110{]}                    \\\\\n",
       "\t Batumi                                          & 3 Gen. SmooveKey                & 370{[}136{]}                           \\\\\n",
       "\t Darmstadt                                       & 3 \\& 4 Gen. Call a Bike flex     & 350 {[}147{]}                          \\\\\n",
       "\t Corfu                                           & 3 Gen. Smoove                   & 100{[}64{]}                            \\\\\n",
       "\t Budapest                                        & 3 Gen.                          & 1526{[}180{]}                          \\\\\n",
       "\t Győr                                            & NA                              & 180{[}182{]}                           \\\\\n",
       "\t Kaposvár                                        & NA                              & 32 (including 6 rollers)  {[}183{]}    \\\\\n",
       "\t Milan                                           & 3 Gen. Clear CC                 & 5430 (1000 E){[}195{]}                 \\\\\n",
       "\t Lithuania                                       & NA                              & 150 E{[}207{]}                         \\\\\n",
       "\t Various Locations (especially railway stations) & OV-Fiets/Nederlandse Spoorwegen & 21700 {[}210{]}                        \\\\\n",
       "\t Kazan                                           & 3 Gen. Cyclocity                & 120{[}238{]}                           \\\\\n",
       "\t Bratislava                                      & NA                              & 400{[}240{]}                           \\\\\n",
       "\t Bratislava                                      & NA                              & 80{[}242{]}                            \\\\\n",
       "\t Košice                                          & NA                              & 500{[}246{]}                           \\\\\n",
       "\t Moldava nad Bodvou                              & NA                              & 25{[}249{]}                            \\\\\n",
       "\t Žilina                                          & nextbike                        & 123{[}263{]}                           \\\\\n",
       "\t Changwon                                        & NA                              & 2348{[}272{]}                          \\\\\n",
       "\t Glasgow, Scotland                               & 3 Gen. nextbike                 & 400{[}294{]}                           \\\\\n",
       "\t Greater Manchester, England                     & NA                              & 1500{[}296{]}                          \\\\\n",
       "\t Edinburgh, Scotland                             & Urban Sharing                   & 500{[}297{]}                           \\\\\n",
       "\t Liverpool, England                              & NA                              & 1000{[}298{]}                          \\\\\n",
       "\\end{tabular}\n"
      ],
      "text/markdown": [
       "\n",
       "A data.frame: 39 × 3\n",
       "\n",
       "| CITY &lt;chr&gt; | SYSTEM &lt;chr&gt; | BICYCLES &lt;fct&gt; |\n",
       "|---|---|---|\n",
       "| Different locations                             | Blue-bike                       | 1790 (2019)[21]                     |\n",
       "| Brussels                                        | 3 Gen. Cyclocity                | 4115[25]                            |\n",
       "| Montreal                                        | PBSC &amp; 8D                       | 7270 (regular)  2395 (electric)[38] |\n",
       "| Limassol, Nicosia District                      | 3 Gen. Smoove                   | 310[65]                             |\n",
       "| Czechia                                         | NA                              | 500[75]                             |\n",
       "| Prague 7                                        | 4 Gen. Ofo                      | [78]                                |\n",
       "| Prostějov                                       | 3 Gen. nextbike                 | 180[79]                             |\n",
       "| Czechia                                         | 3 Gen. nextbike                 | 600[82]                             |\n",
       "| Farsø                                           | 2 Gen                           | [89]                                |\n",
       "| Kouvola                                         | Donkey Republic                 | 60(regular) 10(electric)(2022)[96]  |\n",
       "| Kuopio                                          | Freebike                        | 350(2022) [97]                      |\n",
       "| Lahti                                           | Freebike                        | 250 (2022) [98]                     |\n",
       "| Lappeenranta                                    | Donkey Republic                 | 120(2022)[99]                       |\n",
       "| Pori                                            | Rolanbike                       | 50 (2022) [103]                     |\n",
       "| Raseborg                                        | Donkey Republic                 | 30 (2022) [104]                     |\n",
       "| Riihimäki                                       | Donkey Republic                 | 60 (2022)  [105]                    |\n",
       "| Tampere                                         | CityBike Global                 | 700 (2022)[106]                     |\n",
       "| Turku                                           | Nextbike                        | 700 (2022) [107]                    |\n",
       "| Varkaus                                         | Juro                            | 20 (2022) [110]                     |\n",
       "| Batumi                                          | 3 Gen. SmooveKey                | 370[136]                            |\n",
       "| Darmstadt                                       | 3 &amp; 4 Gen. Call a Bike flex     | 350 [147]                           |\n",
       "| Corfu                                           | 3 Gen. Smoove                   | 100[64]                             |\n",
       "| Budapest                                        | 3 Gen.                          | 1526[180]                           |\n",
       "| Győr                                            | NA                              | 180[182]                            |\n",
       "| Kaposvár                                        | NA                              | 32 (including 6 rollers)  [183]     |\n",
       "| Milan                                           | 3 Gen. Clear CC                 | 5430 (1000 E)[195]                  |\n",
       "| Lithuania                                       | NA                              | 150 E[207]                          |\n",
       "| Various Locations (especially railway stations) | OV-Fiets/Nederlandse Spoorwegen | 21700 [210]                         |\n",
       "| Kazan                                           | 3 Gen. Cyclocity                | 120[238]                            |\n",
       "| Bratislava                                      | NA                              | 400[240]                            |\n",
       "| Bratislava                                      | NA                              | 80[242]                             |\n",
       "| Košice                                          | NA                              | 500[246]                            |\n",
       "| Moldava nad Bodvou                              | NA                              | 25[249]                             |\n",
       "| Žilina                                          | nextbike                        | 123[263]                            |\n",
       "| Changwon                                        | NA                              | 2348[272]                           |\n",
       "| Glasgow, Scotland                               | 3 Gen. nextbike                 | 400[294]                            |\n",
       "| Greater Manchester, England                     | NA                              | 1500[296]                           |\n",
       "| Edinburgh, Scotland                             | Urban Sharing                   | 500[297]                            |\n",
       "| Liverpool, England                              | NA                              | 1000[298]                           |\n",
       "\n"
      ],
      "text/plain": [
       "   CITY                                           \n",
       "1  Different locations                            \n",
       "2  Brussels                                       \n",
       "3  Montreal                                       \n",
       "4  Limassol, Nicosia District                     \n",
       "5  Czechia                                        \n",
       "6  Prague 7                                       \n",
       "7  Prostějov                                      \n",
       "8  Czechia                                        \n",
       "9  Farsø                                          \n",
       "10 Kouvola                                        \n",
       "11 Kuopio                                         \n",
       "12 Lahti                                          \n",
       "13 Lappeenranta                                   \n",
       "14 Pori                                           \n",
       "15 Raseborg                                       \n",
       "16 Riihimäki                                      \n",
       "17 Tampere                                        \n",
       "18 Turku                                          \n",
       "19 Varkaus                                        \n",
       "20 Batumi                                         \n",
       "21 Darmstadt                                      \n",
       "22 Corfu                                          \n",
       "23 Budapest                                       \n",
       "24 Győr                                           \n",
       "25 Kaposvár                                       \n",
       "26 Milan                                          \n",
       "27 Lithuania                                      \n",
       "28 Various Locations (especially railway stations)\n",
       "29 Kazan                                          \n",
       "30 Bratislava                                     \n",
       "31 Bratislava                                     \n",
       "32 Košice                                         \n",
       "33 Moldava nad Bodvou                             \n",
       "34 Žilina                                         \n",
       "35 Changwon                                       \n",
       "36 Glasgow, Scotland                              \n",
       "37 Greater Manchester, England                    \n",
       "38 Edinburgh, Scotland                            \n",
       "39 Liverpool, England                             \n",
       "   SYSTEM                          BICYCLES                           \n",
       "1  Blue-bike                       1790 (2019)[21]                    \n",
       "2  3 Gen. Cyclocity                4115[25]                           \n",
       "3  PBSC & 8D                       7270 (regular)  2395 (electric)[38]\n",
       "4  3 Gen. Smoove                   310[65]                            \n",
       "5  NA                              500[75]                            \n",
       "6  4 Gen. Ofo                      [78]                               \n",
       "7  3 Gen. nextbike                 180[79]                            \n",
       "8  3 Gen. nextbike                 600[82]                            \n",
       "9  2 Gen                           [89]                               \n",
       "10 Donkey Republic                 60(regular) 10(electric)(2022)[96] \n",
       "11 Freebike                        350(2022) [97]                     \n",
       "12 Freebike                        250 (2022) [98]                    \n",
       "13 Donkey Republic                 120(2022)[99]                      \n",
       "14 Rolanbike                       50 (2022) [103]                    \n",
       "15 Donkey Republic                 30 (2022) [104]                    \n",
       "16 Donkey Republic                 60 (2022)  [105]                   \n",
       "17 CityBike Global                 700 (2022)[106]                    \n",
       "18 Nextbike                        700 (2022) [107]                   \n",
       "19 Juro                            20 (2022) [110]                    \n",
       "20 3 Gen. SmooveKey                370[136]                           \n",
       "21 3 & 4 Gen. Call a Bike flex     350 [147]                          \n",
       "22 3 Gen. Smoove                   100[64]                            \n",
       "23 3 Gen.                          1526[180]                          \n",
       "24 NA                              180[182]                           \n",
       "25 NA                              32 (including 6 rollers)  [183]    \n",
       "26 3 Gen. Clear CC                 5430 (1000 E)[195]                 \n",
       "27 NA                              150 E[207]                         \n",
       "28 OV-Fiets/Nederlandse Spoorwegen 21700 [210]                        \n",
       "29 3 Gen. Cyclocity                120[238]                           \n",
       "30 NA                              400[240]                           \n",
       "31 NA                              80[242]                            \n",
       "32 NA                              500[246]                           \n",
       "33 NA                              25[249]                            \n",
       "34 nextbike                        123[263]                           \n",
       "35 NA                              2348[272]                          \n",
       "36 3 Gen. nextbike                 400[294]                           \n",
       "37 NA                              1500[296]                          \n",
       "38 Urban Sharing                   500[297]                           \n",
       "39 NA                              1000[298]                          "
      ]
     },
     "metadata": {},
     "output_type": "display_data"
    }
   ],
   "source": [
    "sub_bike_sharing_df %>% \n",
    "    select(CITY, SYSTEM, BICYCLES) %>% \n",
    "    filter(find_reference_pattern(CITY) | find_reference_pattern(SYSTEM) | find_reference_pattern(BICYCLES))"
   ]
  },
  {
   "cell_type": "markdown",
   "metadata": {},
   "source": [
    "# TASK: Extract the numeric value using regular expressions\n"
   ]
  },
  {
   "cell_type": "markdown",
   "metadata": {},
   "source": [
    "_TODO:_ Write a custom function using `stringr::str_extract` to extract the first digital substring match and convert it into numeric type For example, extract the value '32' from `32 (including 6 rollers) [162]`.\n"
   ]
  },
  {
   "cell_type": "code",
   "execution_count": 42,
   "metadata": {
    "tags": []
   },
   "outputs": [],
   "source": [
    "# Extract the first number\n",
    "extract_num <- function(columns){\n",
    "    # Define a digital pattern\n",
    "    digitals_pattern <- \"[0-9]+\"\n",
    "    # Find the first match using str_extract\n",
    "    first_match <- str_extract(columns, digitals_pattern)\n",
    "    # Convert the result to numeric using the as.numeric() function\n",
    "    first_num <- as.numeric(first_match)\n",
    "return(first_num)\n",
    "}"
   ]
  },
  {
   "cell_type": "markdown",
   "metadata": {},
   "source": [
    "_TODO:_ Use the `dplyr::mutate()` function to apply `extract_num` on the `BICYCLES` column\n"
   ]
  },
  {
   "cell_type": "code",
   "execution_count": 49,
   "metadata": {
    "tags": []
   },
   "outputs": [],
   "source": [
    "# Use the mutate() function on the BICYCLES column\n",
    "sub_bike_sharing_df <- sub_bike_sharing_df %>% \n",
    "                  mutate(BICYCLES = extract_num(BICYCLES))"
   ]
  },
  {
   "cell_type": "markdown",
   "metadata": {},
   "source": [
    "_TODO:_ Use the summary function to check the descriptive statistics of the numeric `BICYCLES` column\n"
   ]
  },
  {
   "cell_type": "code",
   "execution_count": 50,
   "metadata": {
    "tags": []
   },
   "outputs": [
    {
     "data": {
      "text/plain": [
       "   Min. 1st Qu.  Median    Mean 3rd Qu.    Max.    NA's \n",
       "      4      70     300    1834    1000   78000      97 "
      ]
     },
     "metadata": {},
     "output_type": "display_data"
    }
   ],
   "source": [
    "summary(sub_bike_sharing_df$BICYCLES)"
   ]
  },
  {
   "cell_type": "markdown",
   "metadata": {},
   "source": [
    "_TODO:_ Write the cleaned bike-sharing systems dataset into a csv file called `bike_sharing_systems.csv`\n"
   ]
  },
  {
   "cell_type": "code",
   "execution_count": 57,
   "metadata": {
    "tags": []
   },
   "outputs": [],
   "source": [
    "# Write dataset to `bike_sharing_systems.csv`\n",
    "write.csv(sub_bike_sharing_df, \"bike_sharing_systems.csv\", row.names = FALSE)"
   ]
  },
  {
   "cell_type": "markdown",
   "metadata": {},
   "source": [
    "# References:\n"
   ]
  },
  {
   "cell_type": "markdown",
   "metadata": {},
   "source": [
    "If you need to refresh your memory about regular expressions, please refer to this good Regular Expression cheat sheet:\n",
    "\n",
    "<a href=\"https://www.rstudio.com/wp-content/uploads/2016/09/RegExCheatsheet.pdf?utm_medium=Exinfluencer&utm_source=Exinfluencer&utm_content=000026UJ&utm_term=10006555&utm_id=NA-SkillsNetwork-Channel-SkillsNetworkCoursesIBMDeveloperSkillsNetworkRP0321ENSkillsNetwork878-2022-01-01\" target=\"_blank\">Basic Regular Expressions in R</a>\n"
   ]
  },
  {
   "cell_type": "markdown",
   "metadata": {},
   "source": [
    "# Next Steps\n"
   ]
  },
  {
   "cell_type": "markdown",
   "metadata": {},
   "source": [
    "Great! Now you have cleaned up the bike-sharing system dataset using regular expressions. Next, you will use other `tidyverse` functions to perform data wrangling on the bike-sharing demand dataset.\n"
   ]
  },
  {
   "cell_type": "markdown",
   "metadata": {},
   "source": [
    "## Authors\n",
    "\n",
    "<a href=\"https://www.linkedin.com/in/yan-luo-96288783/?utm_medium=Exinfluencer&utm_source=Exinfluencer&utm_content=000026UJ&utm_term=10006555&utm_id=NA-SkillsNetwork-Channel-SkillsNetworkCoursesIBMDeveloperSkillsNetworkRP0321ENSkillsNetwork878-2022-01-01\" target=\"_blank\">Yan Luo</a>\n"
   ]
  },
  {
   "cell_type": "markdown",
   "metadata": {},
   "source": [
    "### Other Contributors\n",
    "\n",
    "Jeff Grossman\n"
   ]
  },
  {
   "cell_type": "markdown",
   "metadata": {},
   "source": [
    "## Change Log\n",
    "\n",
    "| Date (YYYY-MM-DD) | Version | Changed By | Change Description           |\n",
    "| ----------------- | ------- | ---------- | ---------------------------- |\n",
    "| 2021-04-08        | 1.0     | Yan        | Initial version created      |\n",
    "|                   |         |            |                              |\n",
    "|                   |         |            |                              |\n",
    "\n",
    "## <h3 align=\"center\"> © IBM Corporation 2021. All rights reserved. <h3/>\n"
   ]
  }
 ],
 "metadata": {
  "kernelspec": {
   "display_name": "R",
   "language": "R",
   "name": "conda-env-r-r"
  },
  "language_info": {
   "codemirror_mode": "r",
   "file_extension": ".r",
   "mimetype": "text/x-r-source",
   "name": "R",
   "pygments_lexer": "r",
   "version": "3.5.1"
  }
 },
 "nbformat": 4,
 "nbformat_minor": 4
}
